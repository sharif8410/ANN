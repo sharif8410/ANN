{
 "cells": [
  {
   "cell_type": "markdown",
   "id": "6479d87b",
   "metadata": {
    "papermill": {
     "duration": 0.010418,
     "end_time": "2023-10-09T09:32:34.268559",
     "exception": false,
     "start_time": "2023-10-09T09:32:34.258141",
     "status": "completed"
    },
    "tags": []
   },
   "source": [
    "# <b>1 <span style='color:#c72b2ed4'>|</span> Importing and Preprocessing Data Data</b>\n"
   ]
  },
  {
   "cell_type": "code",
   "execution_count": 1,
   "id": "0374fc8b",
   "metadata": {
    "execution": {
     "iopub.execute_input": "2023-10-09T09:32:34.291500Z",
     "iopub.status.busy": "2023-10-09T09:32:34.290827Z",
     "iopub.status.idle": "2023-10-09T09:32:34.723753Z",
     "shell.execute_reply": "2023-10-09T09:32:34.722751Z"
    },
    "papermill": {
     "duration": 0.446597,
     "end_time": "2023-10-09T09:32:34.726132",
     "exception": false,
     "start_time": "2023-10-09T09:32:34.279535",
     "status": "completed"
    },
    "tags": []
   },
   "outputs": [],
   "source": [
    "import numpy as np\n",
    "from PIL import Image\n",
    "import os\n",
    "import pandas as pd\n",
    "import matplotlib.pyplot as plt"
   ]
  },
  {
   "cell_type": "code",
   "execution_count": 2,
   "id": "fc8f62bf",
   "metadata": {
    "execution": {
     "iopub.execute_input": "2023-10-09T09:32:34.747015Z",
     "iopub.status.busy": "2023-10-09T09:32:34.746243Z",
     "iopub.status.idle": "2023-10-09T09:32:35.853913Z",
     "shell.execute_reply": "2023-10-09T09:32:35.853087Z"
    },
    "papermill": {
     "duration": 1.122833,
     "end_time": "2023-10-09T09:32:35.858334",
     "exception": false,
     "start_time": "2023-10-09T09:32:34.735501",
     "status": "completed"
    },
    "tags": []
   },
   "outputs": [
    {
     "data": {
      "text/html": [
       "<div>\n",
       "<style scoped>\n",
       "    .dataframe tbody tr th:only-of-type {\n",
       "        vertical-align: middle;\n",
       "    }\n",
       "\n",
       "    .dataframe tbody tr th {\n",
       "        vertical-align: top;\n",
       "    }\n",
       "\n",
       "    .dataframe thead th {\n",
       "        text-align: right;\n",
       "    }\n",
       "</style>\n",
       "<table border=\"1\" class=\"dataframe\">\n",
       "  <thead>\n",
       "    <tr style=\"text-align: right;\">\n",
       "      <th></th>\n",
       "      <th>Area</th>\n",
       "      <th>Perimeter</th>\n",
       "      <th>Major_Axis_Length</th>\n",
       "      <th>Minor_Axis_Length</th>\n",
       "      <th>Convex_Area</th>\n",
       "      <th>Equiv_Diameter</th>\n",
       "      <th>Eccentricity</th>\n",
       "      <th>Solidity</th>\n",
       "      <th>Extent</th>\n",
       "      <th>Roundness</th>\n",
       "      <th>Aspect_Ration</th>\n",
       "      <th>Compactness</th>\n",
       "      <th>Class</th>\n",
       "    </tr>\n",
       "  </thead>\n",
       "  <tbody>\n",
       "    <tr>\n",
       "      <th>0</th>\n",
       "      <td>56276</td>\n",
       "      <td>888.242</td>\n",
       "      <td>326.1485</td>\n",
       "      <td>220.2388</td>\n",
       "      <td>56831</td>\n",
       "      <td>267.6805</td>\n",
       "      <td>0.7376</td>\n",
       "      <td>0.9902</td>\n",
       "      <td>0.7453</td>\n",
       "      <td>0.8963</td>\n",
       "      <td>1.4809</td>\n",
       "      <td>0.8207</td>\n",
       "      <td>Çerçevelik</td>\n",
       "    </tr>\n",
       "    <tr>\n",
       "      <th>1</th>\n",
       "      <td>76631</td>\n",
       "      <td>1068.146</td>\n",
       "      <td>417.1932</td>\n",
       "      <td>234.2289</td>\n",
       "      <td>77280</td>\n",
       "      <td>312.3614</td>\n",
       "      <td>0.8275</td>\n",
       "      <td>0.9916</td>\n",
       "      <td>0.7151</td>\n",
       "      <td>0.8440</td>\n",
       "      <td>1.7811</td>\n",
       "      <td>0.7487</td>\n",
       "      <td>Çerçevelik</td>\n",
       "    </tr>\n",
       "    <tr>\n",
       "      <th>2</th>\n",
       "      <td>71623</td>\n",
       "      <td>1082.987</td>\n",
       "      <td>435.8328</td>\n",
       "      <td>211.0457</td>\n",
       "      <td>72663</td>\n",
       "      <td>301.9822</td>\n",
       "      <td>0.8749</td>\n",
       "      <td>0.9857</td>\n",
       "      <td>0.7400</td>\n",
       "      <td>0.7674</td>\n",
       "      <td>2.0651</td>\n",
       "      <td>0.6929</td>\n",
       "      <td>Çerçevelik</td>\n",
       "    </tr>\n",
       "    <tr>\n",
       "      <th>3</th>\n",
       "      <td>66458</td>\n",
       "      <td>992.051</td>\n",
       "      <td>381.5638</td>\n",
       "      <td>222.5322</td>\n",
       "      <td>67118</td>\n",
       "      <td>290.8899</td>\n",
       "      <td>0.8123</td>\n",
       "      <td>0.9902</td>\n",
       "      <td>0.7396</td>\n",
       "      <td>0.8486</td>\n",
       "      <td>1.7146</td>\n",
       "      <td>0.7624</td>\n",
       "      <td>Çerçevelik</td>\n",
       "    </tr>\n",
       "    <tr>\n",
       "      <th>4</th>\n",
       "      <td>66107</td>\n",
       "      <td>998.146</td>\n",
       "      <td>383.8883</td>\n",
       "      <td>220.4545</td>\n",
       "      <td>67117</td>\n",
       "      <td>290.1207</td>\n",
       "      <td>0.8187</td>\n",
       "      <td>0.9850</td>\n",
       "      <td>0.6752</td>\n",
       "      <td>0.8338</td>\n",
       "      <td>1.7413</td>\n",
       "      <td>0.7557</td>\n",
       "      <td>Çerçevelik</td>\n",
       "    </tr>\n",
       "    <tr>\n",
       "      <th>5</th>\n",
       "      <td>73191</td>\n",
       "      <td>1041.460</td>\n",
       "      <td>405.8132</td>\n",
       "      <td>231.4261</td>\n",
       "      <td>73969</td>\n",
       "      <td>305.2698</td>\n",
       "      <td>0.8215</td>\n",
       "      <td>0.9895</td>\n",
       "      <td>0.7165</td>\n",
       "      <td>0.8480</td>\n",
       "      <td>1.7535</td>\n",
       "      <td>0.7522</td>\n",
       "      <td>Çerçevelik</td>\n",
       "    </tr>\n",
       "    <tr>\n",
       "      <th>6</th>\n",
       "      <td>73338</td>\n",
       "      <td>1020.055</td>\n",
       "      <td>392.2516</td>\n",
       "      <td>238.5494</td>\n",
       "      <td>73859</td>\n",
       "      <td>305.5762</td>\n",
       "      <td>0.7938</td>\n",
       "      <td>0.9929</td>\n",
       "      <td>0.7187</td>\n",
       "      <td>0.8857</td>\n",
       "      <td>1.6443</td>\n",
       "      <td>0.7790</td>\n",
       "      <td>Çerçevelik</td>\n",
       "    </tr>\n",
       "    <tr>\n",
       "      <th>7</th>\n",
       "      <td>69692</td>\n",
       "      <td>1049.108</td>\n",
       "      <td>421.4875</td>\n",
       "      <td>211.7707</td>\n",
       "      <td>70442</td>\n",
       "      <td>297.8836</td>\n",
       "      <td>0.8646</td>\n",
       "      <td>0.9894</td>\n",
       "      <td>0.6736</td>\n",
       "      <td>0.7957</td>\n",
       "      <td>1.9903</td>\n",
       "      <td>0.7067</td>\n",
       "      <td>Çerçevelik</td>\n",
       "    </tr>\n",
       "    <tr>\n",
       "      <th>8</th>\n",
       "      <td>95727</td>\n",
       "      <td>1231.609</td>\n",
       "      <td>488.1199</td>\n",
       "      <td>251.3086</td>\n",
       "      <td>96831</td>\n",
       "      <td>349.1180</td>\n",
       "      <td>0.8573</td>\n",
       "      <td>0.9886</td>\n",
       "      <td>0.6188</td>\n",
       "      <td>0.7930</td>\n",
       "      <td>1.9423</td>\n",
       "      <td>0.7152</td>\n",
       "      <td>Çerçevelik</td>\n",
       "    </tr>\n",
       "    <tr>\n",
       "      <th>9</th>\n",
       "      <td>73465</td>\n",
       "      <td>1047.767</td>\n",
       "      <td>413.6504</td>\n",
       "      <td>227.2644</td>\n",
       "      <td>74089</td>\n",
       "      <td>305.8407</td>\n",
       "      <td>0.8356</td>\n",
       "      <td>0.9916</td>\n",
       "      <td>0.7443</td>\n",
       "      <td>0.8409</td>\n",
       "      <td>1.8201</td>\n",
       "      <td>0.7394</td>\n",
       "      <td>Çerçevelik</td>\n",
       "    </tr>\n",
       "    <tr>\n",
       "      <th>10</th>\n",
       "      <td>83429</td>\n",
       "      <td>1114.561</td>\n",
       "      <td>438.5827</td>\n",
       "      <td>242.8826</td>\n",
       "      <td>84126</td>\n",
       "      <td>325.9219</td>\n",
       "      <td>0.8327</td>\n",
       "      <td>0.9917</td>\n",
       "      <td>0.7019</td>\n",
       "      <td>0.8440</td>\n",
       "      <td>1.8057</td>\n",
       "      <td>0.7431</td>\n",
       "      <td>Çerçevelik</td>\n",
       "    </tr>\n",
       "    <tr>\n",
       "      <th>11</th>\n",
       "      <td>85461</td>\n",
       "      <td>1136.125</td>\n",
       "      <td>446.2935</td>\n",
       "      <td>245.1551</td>\n",
       "      <td>86344</td>\n",
       "      <td>329.8671</td>\n",
       "      <td>0.8356</td>\n",
       "      <td>0.9898</td>\n",
       "      <td>0.7457</td>\n",
       "      <td>0.8320</td>\n",
       "      <td>1.8205</td>\n",
       "      <td>0.7391</td>\n",
       "      <td>Çerçevelik</td>\n",
       "    </tr>\n",
       "    <tr>\n",
       "      <th>12</th>\n",
       "      <td>71393</td>\n",
       "      <td>1096.533</td>\n",
       "      <td>459.2091</td>\n",
       "      <td>199.1305</td>\n",
       "      <td>72203</td>\n",
       "      <td>301.4969</td>\n",
       "      <td>0.9011</td>\n",
       "      <td>0.9888</td>\n",
       "      <td>0.6000</td>\n",
       "      <td>0.7461</td>\n",
       "      <td>2.3061</td>\n",
       "      <td>0.6566</td>\n",
       "      <td>Çerçevelik</td>\n",
       "    </tr>\n",
       "    <tr>\n",
       "      <th>13</th>\n",
       "      <td>80151</td>\n",
       "      <td>1088.349</td>\n",
       "      <td>420.8842</td>\n",
       "      <td>244.2649</td>\n",
       "      <td>80854</td>\n",
       "      <td>319.4549</td>\n",
       "      <td>0.8144</td>\n",
       "      <td>0.9913</td>\n",
       "      <td>0.7285</td>\n",
       "      <td>0.8503</td>\n",
       "      <td>1.7231</td>\n",
       "      <td>0.7590</td>\n",
       "      <td>Çerçevelik</td>\n",
       "    </tr>\n",
       "    <tr>\n",
       "      <th>14</th>\n",
       "      <td>68078</td>\n",
       "      <td>1016.821</td>\n",
       "      <td>403.0626</td>\n",
       "      <td>215.6027</td>\n",
       "      <td>68709</td>\n",
       "      <td>294.4140</td>\n",
       "      <td>0.8449</td>\n",
       "      <td>0.9908</td>\n",
       "      <td>0.7377</td>\n",
       "      <td>0.8274</td>\n",
       "      <td>1.8695</td>\n",
       "      <td>0.7304</td>\n",
       "      <td>Çerçevelik</td>\n",
       "    </tr>\n",
       "  </tbody>\n",
       "</table>\n",
       "</div>"
      ],
      "text/plain": [
       "     Area  Perimeter  Major_Axis_Length  Minor_Axis_Length  Convex_Area  \\\n",
       "0   56276    888.242           326.1485           220.2388        56831   \n",
       "1   76631   1068.146           417.1932           234.2289        77280   \n",
       "2   71623   1082.987           435.8328           211.0457        72663   \n",
       "3   66458    992.051           381.5638           222.5322        67118   \n",
       "4   66107    998.146           383.8883           220.4545        67117   \n",
       "5   73191   1041.460           405.8132           231.4261        73969   \n",
       "6   73338   1020.055           392.2516           238.5494        73859   \n",
       "7   69692   1049.108           421.4875           211.7707        70442   \n",
       "8   95727   1231.609           488.1199           251.3086        96831   \n",
       "9   73465   1047.767           413.6504           227.2644        74089   \n",
       "10  83429   1114.561           438.5827           242.8826        84126   \n",
       "11  85461   1136.125           446.2935           245.1551        86344   \n",
       "12  71393   1096.533           459.2091           199.1305        72203   \n",
       "13  80151   1088.349           420.8842           244.2649        80854   \n",
       "14  68078   1016.821           403.0626           215.6027        68709   \n",
       "\n",
       "    Equiv_Diameter  Eccentricity  Solidity  Extent  Roundness  Aspect_Ration  \\\n",
       "0         267.6805        0.7376    0.9902  0.7453     0.8963         1.4809   \n",
       "1         312.3614        0.8275    0.9916  0.7151     0.8440         1.7811   \n",
       "2         301.9822        0.8749    0.9857  0.7400     0.7674         2.0651   \n",
       "3         290.8899        0.8123    0.9902  0.7396     0.8486         1.7146   \n",
       "4         290.1207        0.8187    0.9850  0.6752     0.8338         1.7413   \n",
       "5         305.2698        0.8215    0.9895  0.7165     0.8480         1.7535   \n",
       "6         305.5762        0.7938    0.9929  0.7187     0.8857         1.6443   \n",
       "7         297.8836        0.8646    0.9894  0.6736     0.7957         1.9903   \n",
       "8         349.1180        0.8573    0.9886  0.6188     0.7930         1.9423   \n",
       "9         305.8407        0.8356    0.9916  0.7443     0.8409         1.8201   \n",
       "10        325.9219        0.8327    0.9917  0.7019     0.8440         1.8057   \n",
       "11        329.8671        0.8356    0.9898  0.7457     0.8320         1.8205   \n",
       "12        301.4969        0.9011    0.9888  0.6000     0.7461         2.3061   \n",
       "13        319.4549        0.8144    0.9913  0.7285     0.8503         1.7231   \n",
       "14        294.4140        0.8449    0.9908  0.7377     0.8274         1.8695   \n",
       "\n",
       "    Compactness       Class  \n",
       "0        0.8207  Çerçevelik  \n",
       "1        0.7487  Çerçevelik  \n",
       "2        0.6929  Çerçevelik  \n",
       "3        0.7624  Çerçevelik  \n",
       "4        0.7557  Çerçevelik  \n",
       "5        0.7522  Çerçevelik  \n",
       "6        0.7790  Çerçevelik  \n",
       "7        0.7067  Çerçevelik  \n",
       "8        0.7152  Çerçevelik  \n",
       "9        0.7394  Çerçevelik  \n",
       "10       0.7431  Çerçevelik  \n",
       "11       0.7391  Çerçevelik  \n",
       "12       0.6566  Çerçevelik  \n",
       "13       0.7590  Çerçevelik  \n",
       "14       0.7304  Çerçevelik  "
      ]
     },
     "execution_count": 2,
     "metadata": {},
     "output_type": "execute_result"
    }
   ],
   "source": [
    "file = '/kaggle/input/pumpkin-seeds-dataset/Pumpkin_Seeds_Dataset/Pumpkin_Seeds_Dataset.xlsx'\n",
    "df = pd.read_excel(file, sheet_name='Pumpkin_Seeds_Dataset',engine='openpyxl')\n",
    "df.head(15)"
   ]
  },
  {
   "cell_type": "code",
   "execution_count": null,
   "id": "d6de2b44",
   "metadata": {
    "execution": {
     "iopub.execute_input": "2023-10-07T15:29:36.521925Z",
     "iopub.status.busy": "2023-10-07T15:29:36.521305Z",
     "iopub.status.idle": "2023-10-07T15:29:36.552693Z",
     "shell.execute_reply": "2023-10-07T15:29:36.551476Z",
     "shell.execute_reply.started": "2023-10-07T15:29:36.521882Z"
    },
    "papermill": {
     "duration": 0.016796,
     "end_time": "2023-10-09T09:32:35.893389",
     "exception": false,
     "start_time": "2023-10-09T09:32:35.876593",
     "status": "completed"
    },
    "tags": []
   },
   "outputs": [],
   "source": []
  },
  {
   "cell_type": "code",
   "execution_count": 3,
   "id": "304b73f6",
   "metadata": {
    "execution": {
     "iopub.execute_input": "2023-10-09T09:32:35.916840Z",
     "iopub.status.busy": "2023-10-09T09:32:35.915834Z",
     "iopub.status.idle": "2023-10-09T09:32:35.940631Z",
     "shell.execute_reply": "2023-10-09T09:32:35.939561Z"
    },
    "papermill": {
     "duration": 0.039663,
     "end_time": "2023-10-09T09:32:35.942832",
     "exception": false,
     "start_time": "2023-10-09T09:32:35.903169",
     "status": "completed"
    },
    "tags": []
   },
   "outputs": [
    {
     "data": {
      "text/html": [
       "<div>\n",
       "<style scoped>\n",
       "    .dataframe tbody tr th:only-of-type {\n",
       "        vertical-align: middle;\n",
       "    }\n",
       "\n",
       "    .dataframe tbody tr th {\n",
       "        vertical-align: top;\n",
       "    }\n",
       "\n",
       "    .dataframe thead th {\n",
       "        text-align: right;\n",
       "    }\n",
       "</style>\n",
       "<table border=\"1\" class=\"dataframe\">\n",
       "  <thead>\n",
       "    <tr style=\"text-align: right;\">\n",
       "      <th></th>\n",
       "      <th>Area</th>\n",
       "      <th>Perimeter</th>\n",
       "      <th>Major_Axis_Length</th>\n",
       "      <th>Minor_Axis_Length</th>\n",
       "      <th>Convex_Area</th>\n",
       "      <th>Equiv_Diameter</th>\n",
       "      <th>Eccentricity</th>\n",
       "      <th>Solidity</th>\n",
       "      <th>Extent</th>\n",
       "      <th>Roundness</th>\n",
       "      <th>Aspect_Ration</th>\n",
       "      <th>Compactness</th>\n",
       "      <th>Class</th>\n",
       "    </tr>\n",
       "  </thead>\n",
       "  <tbody>\n",
       "    <tr>\n",
       "      <th>2485</th>\n",
       "      <td>71141</td>\n",
       "      <td>1126.925</td>\n",
       "      <td>486.4598</td>\n",
       "      <td>187.0650</td>\n",
       "      <td>71768</td>\n",
       "      <td>300.9643</td>\n",
       "      <td>0.9231</td>\n",
       "      <td>0.9913</td>\n",
       "      <td>0.5851</td>\n",
       "      <td>0.7039</td>\n",
       "      <td>2.6005</td>\n",
       "      <td>0.6187</td>\n",
       "      <td>Ürgüp Sivrisi</td>\n",
       "    </tr>\n",
       "    <tr>\n",
       "      <th>2486</th>\n",
       "      <td>54426</td>\n",
       "      <td>903.456</td>\n",
       "      <td>363.7880</td>\n",
       "      <td>190.8668</td>\n",
       "      <td>54880</td>\n",
       "      <td>263.2439</td>\n",
       "      <td>0.8513</td>\n",
       "      <td>0.9917</td>\n",
       "      <td>0.6485</td>\n",
       "      <td>0.8379</td>\n",
       "      <td>1.9060</td>\n",
       "      <td>0.7236</td>\n",
       "      <td>Ürgüp Sivrisi</td>\n",
       "    </tr>\n",
       "    <tr>\n",
       "      <th>2487</th>\n",
       "      <td>87088</td>\n",
       "      <td>1193.770</td>\n",
       "      <td>494.4742</td>\n",
       "      <td>225.1701</td>\n",
       "      <td>87924</td>\n",
       "      <td>332.9923</td>\n",
       "      <td>0.8903</td>\n",
       "      <td>0.9905</td>\n",
       "      <td>0.7051</td>\n",
       "      <td>0.7679</td>\n",
       "      <td>2.1960</td>\n",
       "      <td>0.6734</td>\n",
       "      <td>Ürgüp Sivrisi</td>\n",
       "    </tr>\n",
       "    <tr>\n",
       "      <th>2488</th>\n",
       "      <td>60387</td>\n",
       "      <td>1016.508</td>\n",
       "      <td>433.2884</td>\n",
       "      <td>178.2834</td>\n",
       "      <td>60938</td>\n",
       "      <td>277.2853</td>\n",
       "      <td>0.9114</td>\n",
       "      <td>0.9910</td>\n",
       "      <td>0.6202</td>\n",
       "      <td>0.7344</td>\n",
       "      <td>2.4303</td>\n",
       "      <td>0.6400</td>\n",
       "      <td>Ürgüp Sivrisi</td>\n",
       "    </tr>\n",
       "    <tr>\n",
       "      <th>2489</th>\n",
       "      <td>92886</td>\n",
       "      <td>1211.852</td>\n",
       "      <td>501.5779</td>\n",
       "      <td>237.1213</td>\n",
       "      <td>93503</td>\n",
       "      <td>343.8984</td>\n",
       "      <td>0.8812</td>\n",
       "      <td>0.9934</td>\n",
       "      <td>0.6180</td>\n",
       "      <td>0.7948</td>\n",
       "      <td>2.1153</td>\n",
       "      <td>0.6856</td>\n",
       "      <td>Ürgüp Sivrisi</td>\n",
       "    </tr>\n",
       "    <tr>\n",
       "      <th>2490</th>\n",
       "      <td>51555</td>\n",
       "      <td>934.911</td>\n",
       "      <td>401.8321</td>\n",
       "      <td>164.7038</td>\n",
       "      <td>52013</td>\n",
       "      <td>256.2067</td>\n",
       "      <td>0.9121</td>\n",
       "      <td>0.9912</td>\n",
       "      <td>0.7187</td>\n",
       "      <td>0.7412</td>\n",
       "      <td>2.4397</td>\n",
       "      <td>0.6376</td>\n",
       "      <td>Ürgüp Sivrisi</td>\n",
       "    </tr>\n",
       "    <tr>\n",
       "      <th>2491</th>\n",
       "      <td>69836</td>\n",
       "      <td>1010.605</td>\n",
       "      <td>396.6286</td>\n",
       "      <td>224.7918</td>\n",
       "      <td>70419</td>\n",
       "      <td>298.1911</td>\n",
       "      <td>0.8239</td>\n",
       "      <td>0.9917</td>\n",
       "      <td>0.6693</td>\n",
       "      <td>0.8593</td>\n",
       "      <td>1.7644</td>\n",
       "      <td>0.7518</td>\n",
       "      <td>Ürgüp Sivrisi</td>\n",
       "    </tr>\n",
       "    <tr>\n",
       "      <th>2492</th>\n",
       "      <td>84236</td>\n",
       "      <td>1274.656</td>\n",
       "      <td>456.9323</td>\n",
       "      <td>237.1540</td>\n",
       "      <td>85248</td>\n",
       "      <td>327.4944</td>\n",
       "      <td>0.8548</td>\n",
       "      <td>0.9881</td>\n",
       "      <td>0.6104</td>\n",
       "      <td>0.6515</td>\n",
       "      <td>1.9267</td>\n",
       "      <td>0.7167</td>\n",
       "      <td>Ürgüp Sivrisi</td>\n",
       "    </tr>\n",
       "    <tr>\n",
       "      <th>2493</th>\n",
       "      <td>58987</td>\n",
       "      <td>977.410</td>\n",
       "      <td>404.0779</td>\n",
       "      <td>186.3710</td>\n",
       "      <td>59518</td>\n",
       "      <td>274.0522</td>\n",
       "      <td>0.8873</td>\n",
       "      <td>0.9911</td>\n",
       "      <td>0.7327</td>\n",
       "      <td>0.7759</td>\n",
       "      <td>2.1681</td>\n",
       "      <td>0.6782</td>\n",
       "      <td>Ürgüp Sivrisi</td>\n",
       "    </tr>\n",
       "    <tr>\n",
       "      <th>2494</th>\n",
       "      <td>79755</td>\n",
       "      <td>1146.431</td>\n",
       "      <td>470.3888</td>\n",
       "      <td>217.8296</td>\n",
       "      <td>80649</td>\n",
       "      <td>318.6647</td>\n",
       "      <td>0.8863</td>\n",
       "      <td>0.9889</td>\n",
       "      <td>0.7175</td>\n",
       "      <td>0.7626</td>\n",
       "      <td>2.1594</td>\n",
       "      <td>0.6774</td>\n",
       "      <td>Ürgüp Sivrisi</td>\n",
       "    </tr>\n",
       "    <tr>\n",
       "      <th>2495</th>\n",
       "      <td>79637</td>\n",
       "      <td>1224.710</td>\n",
       "      <td>533.1513</td>\n",
       "      <td>190.4367</td>\n",
       "      <td>80381</td>\n",
       "      <td>318.4289</td>\n",
       "      <td>0.9340</td>\n",
       "      <td>0.9907</td>\n",
       "      <td>0.4888</td>\n",
       "      <td>0.6672</td>\n",
       "      <td>2.7996</td>\n",
       "      <td>0.5973</td>\n",
       "      <td>Ürgüp Sivrisi</td>\n",
       "    </tr>\n",
       "    <tr>\n",
       "      <th>2496</th>\n",
       "      <td>69647</td>\n",
       "      <td>1084.318</td>\n",
       "      <td>462.9416</td>\n",
       "      <td>191.8210</td>\n",
       "      <td>70216</td>\n",
       "      <td>297.7874</td>\n",
       "      <td>0.9101</td>\n",
       "      <td>0.9919</td>\n",
       "      <td>0.6002</td>\n",
       "      <td>0.7444</td>\n",
       "      <td>2.4134</td>\n",
       "      <td>0.6433</td>\n",
       "      <td>Ürgüp Sivrisi</td>\n",
       "    </tr>\n",
       "    <tr>\n",
       "      <th>2497</th>\n",
       "      <td>87994</td>\n",
       "      <td>1210.314</td>\n",
       "      <td>507.2200</td>\n",
       "      <td>222.1872</td>\n",
       "      <td>88702</td>\n",
       "      <td>334.7199</td>\n",
       "      <td>0.8990</td>\n",
       "      <td>0.9920</td>\n",
       "      <td>0.7643</td>\n",
       "      <td>0.7549</td>\n",
       "      <td>2.2828</td>\n",
       "      <td>0.6599</td>\n",
       "      <td>Ürgüp Sivrisi</td>\n",
       "    </tr>\n",
       "    <tr>\n",
       "      <th>2498</th>\n",
       "      <td>80011</td>\n",
       "      <td>1182.947</td>\n",
       "      <td>501.9065</td>\n",
       "      <td>204.7531</td>\n",
       "      <td>80902</td>\n",
       "      <td>319.1758</td>\n",
       "      <td>0.9130</td>\n",
       "      <td>0.9890</td>\n",
       "      <td>0.7374</td>\n",
       "      <td>0.7185</td>\n",
       "      <td>2.4513</td>\n",
       "      <td>0.6359</td>\n",
       "      <td>Ürgüp Sivrisi</td>\n",
       "    </tr>\n",
       "    <tr>\n",
       "      <th>2499</th>\n",
       "      <td>84934</td>\n",
       "      <td>1159.933</td>\n",
       "      <td>462.8951</td>\n",
       "      <td>234.5597</td>\n",
       "      <td>85781</td>\n",
       "      <td>328.8485</td>\n",
       "      <td>0.8621</td>\n",
       "      <td>0.9901</td>\n",
       "      <td>0.7360</td>\n",
       "      <td>0.7933</td>\n",
       "      <td>1.9735</td>\n",
       "      <td>0.7104</td>\n",
       "      <td>Ürgüp Sivrisi</td>\n",
       "    </tr>\n",
       "  </tbody>\n",
       "</table>\n",
       "</div>"
      ],
      "text/plain": [
       "       Area  Perimeter  Major_Axis_Length  Minor_Axis_Length  Convex_Area  \\\n",
       "2485  71141   1126.925           486.4598           187.0650        71768   \n",
       "2486  54426    903.456           363.7880           190.8668        54880   \n",
       "2487  87088   1193.770           494.4742           225.1701        87924   \n",
       "2488  60387   1016.508           433.2884           178.2834        60938   \n",
       "2489  92886   1211.852           501.5779           237.1213        93503   \n",
       "2490  51555    934.911           401.8321           164.7038        52013   \n",
       "2491  69836   1010.605           396.6286           224.7918        70419   \n",
       "2492  84236   1274.656           456.9323           237.1540        85248   \n",
       "2493  58987    977.410           404.0779           186.3710        59518   \n",
       "2494  79755   1146.431           470.3888           217.8296        80649   \n",
       "2495  79637   1224.710           533.1513           190.4367        80381   \n",
       "2496  69647   1084.318           462.9416           191.8210        70216   \n",
       "2497  87994   1210.314           507.2200           222.1872        88702   \n",
       "2498  80011   1182.947           501.9065           204.7531        80902   \n",
       "2499  84934   1159.933           462.8951           234.5597        85781   \n",
       "\n",
       "      Equiv_Diameter  Eccentricity  Solidity  Extent  Roundness  \\\n",
       "2485        300.9643        0.9231    0.9913  0.5851     0.7039   \n",
       "2486        263.2439        0.8513    0.9917  0.6485     0.8379   \n",
       "2487        332.9923        0.8903    0.9905  0.7051     0.7679   \n",
       "2488        277.2853        0.9114    0.9910  0.6202     0.7344   \n",
       "2489        343.8984        0.8812    0.9934  0.6180     0.7948   \n",
       "2490        256.2067        0.9121    0.9912  0.7187     0.7412   \n",
       "2491        298.1911        0.8239    0.9917  0.6693     0.8593   \n",
       "2492        327.4944        0.8548    0.9881  0.6104     0.6515   \n",
       "2493        274.0522        0.8873    0.9911  0.7327     0.7759   \n",
       "2494        318.6647        0.8863    0.9889  0.7175     0.7626   \n",
       "2495        318.4289        0.9340    0.9907  0.4888     0.6672   \n",
       "2496        297.7874        0.9101    0.9919  0.6002     0.7444   \n",
       "2497        334.7199        0.8990    0.9920  0.7643     0.7549   \n",
       "2498        319.1758        0.9130    0.9890  0.7374     0.7185   \n",
       "2499        328.8485        0.8621    0.9901  0.7360     0.7933   \n",
       "\n",
       "      Aspect_Ration  Compactness          Class  \n",
       "2485         2.6005       0.6187  Ürgüp Sivrisi  \n",
       "2486         1.9060       0.7236  Ürgüp Sivrisi  \n",
       "2487         2.1960       0.6734  Ürgüp Sivrisi  \n",
       "2488         2.4303       0.6400  Ürgüp Sivrisi  \n",
       "2489         2.1153       0.6856  Ürgüp Sivrisi  \n",
       "2490         2.4397       0.6376  Ürgüp Sivrisi  \n",
       "2491         1.7644       0.7518  Ürgüp Sivrisi  \n",
       "2492         1.9267       0.7167  Ürgüp Sivrisi  \n",
       "2493         2.1681       0.6782  Ürgüp Sivrisi  \n",
       "2494         2.1594       0.6774  Ürgüp Sivrisi  \n",
       "2495         2.7996       0.5973  Ürgüp Sivrisi  \n",
       "2496         2.4134       0.6433  Ürgüp Sivrisi  \n",
       "2497         2.2828       0.6599  Ürgüp Sivrisi  \n",
       "2498         2.4513       0.6359  Ürgüp Sivrisi  \n",
       "2499         1.9735       0.7104  Ürgüp Sivrisi  "
      ]
     },
     "execution_count": 3,
     "metadata": {},
     "output_type": "execute_result"
    }
   ],
   "source": [
    "df.tail(15)"
   ]
  },
  {
   "cell_type": "markdown",
   "id": "ac7d1a75",
   "metadata": {
    "papermill": {
     "duration": 0.010077,
     "end_time": "2023-10-09T09:32:35.963124",
     "exception": false,
     "start_time": "2023-10-09T09:32:35.953047",
     "status": "completed"
    },
    "tags": []
   },
   "source": [
    "*** Before splitting the data into test and train set we must shufle the dataset**"
   ]
  },
  {
   "cell_type": "code",
   "execution_count": 4,
   "id": "3b8bc28d",
   "metadata": {
    "execution": {
     "iopub.execute_input": "2023-10-09T09:32:35.986057Z",
     "iopub.status.busy": "2023-10-09T09:32:35.985147Z",
     "iopub.status.idle": "2023-10-09T09:32:36.012796Z",
     "shell.execute_reply": "2023-10-09T09:32:36.011546Z"
    },
    "papermill": {
     "duration": 0.041607,
     "end_time": "2023-10-09T09:32:36.015054",
     "exception": false,
     "start_time": "2023-10-09T09:32:35.973447",
     "status": "completed"
    },
    "tags": []
   },
   "outputs": [
    {
     "data": {
      "text/html": [
       "<div>\n",
       "<style scoped>\n",
       "    .dataframe tbody tr th:only-of-type {\n",
       "        vertical-align: middle;\n",
       "    }\n",
       "\n",
       "    .dataframe tbody tr th {\n",
       "        vertical-align: top;\n",
       "    }\n",
       "\n",
       "    .dataframe thead th {\n",
       "        text-align: right;\n",
       "    }\n",
       "</style>\n",
       "<table border=\"1\" class=\"dataframe\">\n",
       "  <thead>\n",
       "    <tr style=\"text-align: right;\">\n",
       "      <th></th>\n",
       "      <th>Area</th>\n",
       "      <th>Perimeter</th>\n",
       "      <th>Major_Axis_Length</th>\n",
       "      <th>Minor_Axis_Length</th>\n",
       "      <th>Convex_Area</th>\n",
       "      <th>Equiv_Diameter</th>\n",
       "      <th>Eccentricity</th>\n",
       "      <th>Solidity</th>\n",
       "      <th>Extent</th>\n",
       "      <th>Roundness</th>\n",
       "      <th>Aspect_Ration</th>\n",
       "      <th>Compactness</th>\n",
       "      <th>Class</th>\n",
       "    </tr>\n",
       "  </thead>\n",
       "  <tbody>\n",
       "    <tr>\n",
       "      <th>2065</th>\n",
       "      <td>59856</td>\n",
       "      <td>978.841</td>\n",
       "      <td>407.0930</td>\n",
       "      <td>188.2279</td>\n",
       "      <td>60556</td>\n",
       "      <td>276.0634</td>\n",
       "      <td>0.8867</td>\n",
       "      <td>0.9884</td>\n",
       "      <td>0.7447</td>\n",
       "      <td>0.7850</td>\n",
       "      <td>2.1628</td>\n",
       "      <td>0.6781</td>\n",
       "      <td>Ürgüp Sivrisi</td>\n",
       "    </tr>\n",
       "    <tr>\n",
       "      <th>2114</th>\n",
       "      <td>91350</td>\n",
       "      <td>1282.514</td>\n",
       "      <td>530.1989</td>\n",
       "      <td>219.6541</td>\n",
       "      <td>92091</td>\n",
       "      <td>341.0432</td>\n",
       "      <td>0.9101</td>\n",
       "      <td>0.9920</td>\n",
       "      <td>0.5783</td>\n",
       "      <td>0.6979</td>\n",
       "      <td>2.4138</td>\n",
       "      <td>0.6432</td>\n",
       "      <td>Ürgüp Sivrisi</td>\n",
       "    </tr>\n",
       "    <tr>\n",
       "      <th>76</th>\n",
       "      <td>69517</td>\n",
       "      <td>1059.538</td>\n",
       "      <td>429.8407</td>\n",
       "      <td>206.8250</td>\n",
       "      <td>70493</td>\n",
       "      <td>297.5093</td>\n",
       "      <td>0.8766</td>\n",
       "      <td>0.9862</td>\n",
       "      <td>0.6623</td>\n",
       "      <td>0.7782</td>\n",
       "      <td>2.0783</td>\n",
       "      <td>0.6921</td>\n",
       "      <td>Çerçevelik</td>\n",
       "    </tr>\n",
       "    <tr>\n",
       "      <th>341</th>\n",
       "      <td>59680</td>\n",
       "      <td>914.105</td>\n",
       "      <td>349.2239</td>\n",
       "      <td>218.2894</td>\n",
       "      <td>60057</td>\n",
       "      <td>275.6573</td>\n",
       "      <td>0.7806</td>\n",
       "      <td>0.9937</td>\n",
       "      <td>0.7221</td>\n",
       "      <td>0.8975</td>\n",
       "      <td>1.5998</td>\n",
       "      <td>0.7893</td>\n",
       "      <td>Çerçevelik</td>\n",
       "    </tr>\n",
       "    <tr>\n",
       "      <th>1794</th>\n",
       "      <td>84061</td>\n",
       "      <td>1264.182</td>\n",
       "      <td>552.5271</td>\n",
       "      <td>194.4664</td>\n",
       "      <td>84836</td>\n",
       "      <td>327.1541</td>\n",
       "      <td>0.9360</td>\n",
       "      <td>0.9909</td>\n",
       "      <td>0.7553</td>\n",
       "      <td>0.6610</td>\n",
       "      <td>2.8412</td>\n",
       "      <td>0.5921</td>\n",
       "      <td>Ürgüp Sivrisi</td>\n",
       "    </tr>\n",
       "    <tr>\n",
       "      <th>1025</th>\n",
       "      <td>83736</td>\n",
       "      <td>1108.281</td>\n",
       "      <td>431.5197</td>\n",
       "      <td>248.0819</td>\n",
       "      <td>84458</td>\n",
       "      <td>326.5210</td>\n",
       "      <td>0.8182</td>\n",
       "      <td>0.9915</td>\n",
       "      <td>0.7268</td>\n",
       "      <td>0.8567</td>\n",
       "      <td>1.7394</td>\n",
       "      <td>0.7567</td>\n",
       "      <td>Çerçevelik</td>\n",
       "    </tr>\n",
       "    <tr>\n",
       "      <th>2158</th>\n",
       "      <td>93398</td>\n",
       "      <td>1241.998</td>\n",
       "      <td>509.9614</td>\n",
       "      <td>234.5406</td>\n",
       "      <td>94916</td>\n",
       "      <td>344.8449</td>\n",
       "      <td>0.8880</td>\n",
       "      <td>0.9840</td>\n",
       "      <td>0.7422</td>\n",
       "      <td>0.7609</td>\n",
       "      <td>2.1743</td>\n",
       "      <td>0.6762</td>\n",
       "      <td>Ürgüp Sivrisi</td>\n",
       "    </tr>\n",
       "    <tr>\n",
       "      <th>21</th>\n",
       "      <td>82196</td>\n",
       "      <td>1141.067</td>\n",
       "      <td>466.2324</td>\n",
       "      <td>225.8543</td>\n",
       "      <td>82991</td>\n",
       "      <td>323.5046</td>\n",
       "      <td>0.8748</td>\n",
       "      <td>0.9904</td>\n",
       "      <td>0.6702</td>\n",
       "      <td>0.7933</td>\n",
       "      <td>2.0643</td>\n",
       "      <td>0.6939</td>\n",
       "      <td>Çerçevelik</td>\n",
       "    </tr>\n",
       "    <tr>\n",
       "      <th>927</th>\n",
       "      <td>84080</td>\n",
       "      <td>1146.835</td>\n",
       "      <td>453.8263</td>\n",
       "      <td>238.3155</td>\n",
       "      <td>85182</td>\n",
       "      <td>327.1910</td>\n",
       "      <td>0.8510</td>\n",
       "      <td>0.9871</td>\n",
       "      <td>0.7400</td>\n",
       "      <td>0.8033</td>\n",
       "      <td>1.9043</td>\n",
       "      <td>0.7210</td>\n",
       "      <td>Çerçevelik</td>\n",
       "    </tr>\n",
       "    <tr>\n",
       "      <th>549</th>\n",
       "      <td>70636</td>\n",
       "      <td>1008.081</td>\n",
       "      <td>392.4988</td>\n",
       "      <td>230.0150</td>\n",
       "      <td>71177</td>\n",
       "      <td>299.8942</td>\n",
       "      <td>0.8103</td>\n",
       "      <td>0.9924</td>\n",
       "      <td>0.7322</td>\n",
       "      <td>0.8735</td>\n",
       "      <td>1.7064</td>\n",
       "      <td>0.7641</td>\n",
       "      <td>Çerçevelik</td>\n",
       "    </tr>\n",
       "    <tr>\n",
       "      <th>973</th>\n",
       "      <td>87449</td>\n",
       "      <td>1134.226</td>\n",
       "      <td>445.8312</td>\n",
       "      <td>250.4516</td>\n",
       "      <td>88155</td>\n",
       "      <td>333.6818</td>\n",
       "      <td>0.8273</td>\n",
       "      <td>0.9920</td>\n",
       "      <td>0.7205</td>\n",
       "      <td>0.8542</td>\n",
       "      <td>1.7801</td>\n",
       "      <td>0.7484</td>\n",
       "      <td>Çerçevelik</td>\n",
       "    </tr>\n",
       "    <tr>\n",
       "      <th>1424</th>\n",
       "      <td>123618</td>\n",
       "      <td>1417.026</td>\n",
       "      <td>587.8352</td>\n",
       "      <td>271.1817</td>\n",
       "      <td>124662</td>\n",
       "      <td>396.7308</td>\n",
       "      <td>0.8872</td>\n",
       "      <td>0.9916</td>\n",
       "      <td>0.7694</td>\n",
       "      <td>0.7736</td>\n",
       "      <td>2.1677</td>\n",
       "      <td>0.6749</td>\n",
       "      <td>Ürgüp Sivrisi</td>\n",
       "    </tr>\n",
       "    <tr>\n",
       "      <th>1007</th>\n",
       "      <td>84336</td>\n",
       "      <td>1140.954</td>\n",
       "      <td>443.1971</td>\n",
       "      <td>244.6741</td>\n",
       "      <td>85703</td>\n",
       "      <td>327.6888</td>\n",
       "      <td>0.8338</td>\n",
       "      <td>0.9840</td>\n",
       "      <td>0.7031</td>\n",
       "      <td>0.8141</td>\n",
       "      <td>1.8114</td>\n",
       "      <td>0.7394</td>\n",
       "      <td>Çerçevelik</td>\n",
       "    </tr>\n",
       "    <tr>\n",
       "      <th>1116</th>\n",
       "      <td>97967</td>\n",
       "      <td>1187.560</td>\n",
       "      <td>454.1566</td>\n",
       "      <td>275.5373</td>\n",
       "      <td>98698</td>\n",
       "      <td>353.1791</td>\n",
       "      <td>0.7949</td>\n",
       "      <td>0.9926</td>\n",
       "      <td>0.7418</td>\n",
       "      <td>0.8729</td>\n",
       "      <td>1.6483</td>\n",
       "      <td>0.7777</td>\n",
       "      <td>Çerçevelik</td>\n",
       "    </tr>\n",
       "    <tr>\n",
       "      <th>423</th>\n",
       "      <td>100266</td>\n",
       "      <td>1207.936</td>\n",
       "      <td>456.8741</td>\n",
       "      <td>279.9331</td>\n",
       "      <td>101252</td>\n",
       "      <td>357.2991</td>\n",
       "      <td>0.7903</td>\n",
       "      <td>0.9903</td>\n",
       "      <td>0.7079</td>\n",
       "      <td>0.8635</td>\n",
       "      <td>1.6321</td>\n",
       "      <td>0.7821</td>\n",
       "      <td>Çerçevelik</td>\n",
       "    </tr>\n",
       "  </tbody>\n",
       "</table>\n",
       "</div>"
      ],
      "text/plain": [
       "        Area  Perimeter  Major_Axis_Length  Minor_Axis_Length  Convex_Area  \\\n",
       "2065   59856    978.841           407.0930           188.2279        60556   \n",
       "2114   91350   1282.514           530.1989           219.6541        92091   \n",
       "76     69517   1059.538           429.8407           206.8250        70493   \n",
       "341    59680    914.105           349.2239           218.2894        60057   \n",
       "1794   84061   1264.182           552.5271           194.4664        84836   \n",
       "1025   83736   1108.281           431.5197           248.0819        84458   \n",
       "2158   93398   1241.998           509.9614           234.5406        94916   \n",
       "21     82196   1141.067           466.2324           225.8543        82991   \n",
       "927    84080   1146.835           453.8263           238.3155        85182   \n",
       "549    70636   1008.081           392.4988           230.0150        71177   \n",
       "973    87449   1134.226           445.8312           250.4516        88155   \n",
       "1424  123618   1417.026           587.8352           271.1817       124662   \n",
       "1007   84336   1140.954           443.1971           244.6741        85703   \n",
       "1116   97967   1187.560           454.1566           275.5373        98698   \n",
       "423   100266   1207.936           456.8741           279.9331       101252   \n",
       "\n",
       "      Equiv_Diameter  Eccentricity  Solidity  Extent  Roundness  \\\n",
       "2065        276.0634        0.8867    0.9884  0.7447     0.7850   \n",
       "2114        341.0432        0.9101    0.9920  0.5783     0.6979   \n",
       "76          297.5093        0.8766    0.9862  0.6623     0.7782   \n",
       "341         275.6573        0.7806    0.9937  0.7221     0.8975   \n",
       "1794        327.1541        0.9360    0.9909  0.7553     0.6610   \n",
       "1025        326.5210        0.8182    0.9915  0.7268     0.8567   \n",
       "2158        344.8449        0.8880    0.9840  0.7422     0.7609   \n",
       "21          323.5046        0.8748    0.9904  0.6702     0.7933   \n",
       "927         327.1910        0.8510    0.9871  0.7400     0.8033   \n",
       "549         299.8942        0.8103    0.9924  0.7322     0.8735   \n",
       "973         333.6818        0.8273    0.9920  0.7205     0.8542   \n",
       "1424        396.7308        0.8872    0.9916  0.7694     0.7736   \n",
       "1007        327.6888        0.8338    0.9840  0.7031     0.8141   \n",
       "1116        353.1791        0.7949    0.9926  0.7418     0.8729   \n",
       "423         357.2991        0.7903    0.9903  0.7079     0.8635   \n",
       "\n",
       "      Aspect_Ration  Compactness          Class  \n",
       "2065         2.1628       0.6781  Ürgüp Sivrisi  \n",
       "2114         2.4138       0.6432  Ürgüp Sivrisi  \n",
       "76           2.0783       0.6921     Çerçevelik  \n",
       "341          1.5998       0.7893     Çerçevelik  \n",
       "1794         2.8412       0.5921  Ürgüp Sivrisi  \n",
       "1025         1.7394       0.7567     Çerçevelik  \n",
       "2158         2.1743       0.6762  Ürgüp Sivrisi  \n",
       "21           2.0643       0.6939     Çerçevelik  \n",
       "927          1.9043       0.7210     Çerçevelik  \n",
       "549          1.7064       0.7641     Çerçevelik  \n",
       "973          1.7801       0.7484     Çerçevelik  \n",
       "1424         2.1677       0.6749  Ürgüp Sivrisi  \n",
       "1007         1.8114       0.7394     Çerçevelik  \n",
       "1116         1.6483       0.7777     Çerçevelik  \n",
       "423          1.6321       0.7821     Çerçevelik  "
      ]
     },
     "execution_count": 4,
     "metadata": {},
     "output_type": "execute_result"
    }
   ],
   "source": [
    "# shuffle the DataFrame rows\n",
    "df = df.sample(frac = 1)\n",
    "df.head(15)"
   ]
  },
  {
   "cell_type": "code",
   "execution_count": null,
   "id": "298fed4b",
   "metadata": {
    "execution": {
     "iopub.execute_input": "2023-10-07T15:29:36.597010Z",
     "iopub.status.busy": "2023-10-07T15:29:36.595824Z",
     "iopub.status.idle": "2023-10-07T15:29:36.631431Z",
     "shell.execute_reply": "2023-10-07T15:29:36.629669Z",
     "shell.execute_reply.started": "2023-10-07T15:29:36.596818Z"
    },
    "papermill": {
     "duration": 0.011101,
     "end_time": "2023-10-09T09:32:36.038032",
     "exception": false,
     "start_time": "2023-10-09T09:32:36.026931",
     "status": "completed"
    },
    "tags": []
   },
   "outputs": [],
   "source": []
  },
  {
   "cell_type": "code",
   "execution_count": 5,
   "id": "06cfa9e0",
   "metadata": {
    "execution": {
     "iopub.execute_input": "2023-10-09T09:32:36.063419Z",
     "iopub.status.busy": "2023-10-09T09:32:36.062078Z",
     "iopub.status.idle": "2023-10-09T09:32:36.070431Z",
     "shell.execute_reply": "2023-10-09T09:32:36.068849Z"
    },
    "papermill": {
     "duration": 0.02387,
     "end_time": "2023-10-09T09:32:36.072551",
     "exception": false,
     "start_time": "2023-10-09T09:32:36.048681",
     "status": "completed"
    },
    "tags": []
   },
   "outputs": [
    {
     "data": {
      "text/plain": [
       "(2500, 13)"
      ]
     },
     "execution_count": 5,
     "metadata": {},
     "output_type": "execute_result"
    }
   ],
   "source": [
    "df.shape"
   ]
  },
  {
   "cell_type": "code",
   "execution_count": 6,
   "id": "aebd2326",
   "metadata": {
    "execution": {
     "iopub.execute_input": "2023-10-09T09:32:36.096220Z",
     "iopub.status.busy": "2023-10-09T09:32:36.095603Z",
     "iopub.status.idle": "2023-10-09T09:32:36.102274Z",
     "shell.execute_reply": "2023-10-09T09:32:36.101508Z"
    },
    "papermill": {
     "duration": 0.020869,
     "end_time": "2023-10-09T09:32:36.104604",
     "exception": false,
     "start_time": "2023-10-09T09:32:36.083735",
     "status": "completed"
    },
    "tags": []
   },
   "outputs": [],
   "source": [
    "# drop NULLs\n",
    "df.dropna(inplace=True)"
   ]
  },
  {
   "cell_type": "code",
   "execution_count": 7,
   "id": "996da553",
   "metadata": {
    "execution": {
     "iopub.execute_input": "2023-10-09T09:32:36.130473Z",
     "iopub.status.busy": "2023-10-09T09:32:36.129968Z",
     "iopub.status.idle": "2023-10-09T09:32:36.137428Z",
     "shell.execute_reply": "2023-10-09T09:32:36.136323Z"
    },
    "papermill": {
     "duration": 0.023358,
     "end_time": "2023-10-09T09:32:36.139636",
     "exception": false,
     "start_time": "2023-10-09T09:32:36.116278",
     "status": "completed"
    },
    "tags": []
   },
   "outputs": [
    {
     "data": {
      "text/plain": [
       "(2500, 13)"
      ]
     },
     "execution_count": 7,
     "metadata": {},
     "output_type": "execute_result"
    }
   ],
   "source": [
    "df.shape"
   ]
  },
  {
   "cell_type": "code",
   "execution_count": 8,
   "id": "0be3a959",
   "metadata": {
    "execution": {
     "iopub.execute_input": "2023-10-09T09:32:36.163183Z",
     "iopub.status.busy": "2023-10-09T09:32:36.162566Z",
     "iopub.status.idle": "2023-10-09T09:32:36.177085Z",
     "shell.execute_reply": "2023-10-09T09:32:36.175903Z"
    },
    "papermill": {
     "duration": 0.028876,
     "end_time": "2023-10-09T09:32:36.179169",
     "exception": false,
     "start_time": "2023-10-09T09:32:36.150293",
     "status": "completed"
    },
    "tags": []
   },
   "outputs": [
    {
     "data": {
      "text/plain": [
       "array(['Ürgüp Sivrisi', 'Çerçevelik'], dtype=object)"
      ]
     },
     "execution_count": 8,
     "metadata": {},
     "output_type": "execute_result"
    }
   ],
   "source": [
    "df['Class'].unique()"
   ]
  },
  {
   "cell_type": "markdown",
   "id": "3d21458f",
   "metadata": {
    "papermill": {
     "duration": 0.011039,
     "end_time": "2023-10-09T09:32:36.270784",
     "exception": false,
     "start_time": "2023-10-09T09:32:36.259745",
     "status": "completed"
    },
    "tags": []
   },
   "source": [
    "Thare are tow catagories in Class column. We will change these two categories into binary values"
   ]
  },
  {
   "cell_type": "code",
   "execution_count": 9,
   "id": "319f9e97",
   "metadata": {
    "execution": {
     "iopub.execute_input": "2023-10-09T09:32:36.295548Z",
     "iopub.status.busy": "2023-10-09T09:32:36.294597Z",
     "iopub.status.idle": "2023-10-09T09:32:36.301849Z",
     "shell.execute_reply": "2023-10-09T09:32:36.300760Z"
    },
    "papermill": {
     "duration": 0.022291,
     "end_time": "2023-10-09T09:32:36.304139",
     "exception": false,
     "start_time": "2023-10-09T09:32:36.281848",
     "status": "completed"
    },
    "tags": []
   },
   "outputs": [],
   "source": [
    "df['Class']= (df['Class']=='Çerçevelik').astype(int)"
   ]
  },
  {
   "cell_type": "code",
   "execution_count": 10,
   "id": "213563cc",
   "metadata": {
    "execution": {
     "iopub.execute_input": "2023-10-09T09:32:36.329965Z",
     "iopub.status.busy": "2023-10-09T09:32:36.329033Z",
     "iopub.status.idle": "2023-10-09T09:32:36.354284Z",
     "shell.execute_reply": "2023-10-09T09:32:36.353084Z"
    },
    "papermill": {
     "duration": 0.041839,
     "end_time": "2023-10-09T09:32:36.356939",
     "exception": false,
     "start_time": "2023-10-09T09:32:36.315100",
     "status": "completed"
    },
    "tags": []
   },
   "outputs": [
    {
     "data": {
      "text/html": [
       "<div>\n",
       "<style scoped>\n",
       "    .dataframe tbody tr th:only-of-type {\n",
       "        vertical-align: middle;\n",
       "    }\n",
       "\n",
       "    .dataframe tbody tr th {\n",
       "        vertical-align: top;\n",
       "    }\n",
       "\n",
       "    .dataframe thead th {\n",
       "        text-align: right;\n",
       "    }\n",
       "</style>\n",
       "<table border=\"1\" class=\"dataframe\">\n",
       "  <thead>\n",
       "    <tr style=\"text-align: right;\">\n",
       "      <th></th>\n",
       "      <th>Area</th>\n",
       "      <th>Perimeter</th>\n",
       "      <th>Major_Axis_Length</th>\n",
       "      <th>Minor_Axis_Length</th>\n",
       "      <th>Convex_Area</th>\n",
       "      <th>Equiv_Diameter</th>\n",
       "      <th>Eccentricity</th>\n",
       "      <th>Solidity</th>\n",
       "      <th>Extent</th>\n",
       "      <th>Roundness</th>\n",
       "      <th>Aspect_Ration</th>\n",
       "      <th>Compactness</th>\n",
       "      <th>Class</th>\n",
       "    </tr>\n",
       "  </thead>\n",
       "  <tbody>\n",
       "    <tr>\n",
       "      <th>2065</th>\n",
       "      <td>59856</td>\n",
       "      <td>978.841</td>\n",
       "      <td>407.0930</td>\n",
       "      <td>188.2279</td>\n",
       "      <td>60556</td>\n",
       "      <td>276.0634</td>\n",
       "      <td>0.8867</td>\n",
       "      <td>0.9884</td>\n",
       "      <td>0.7447</td>\n",
       "      <td>0.7850</td>\n",
       "      <td>2.1628</td>\n",
       "      <td>0.6781</td>\n",
       "      <td>0</td>\n",
       "    </tr>\n",
       "    <tr>\n",
       "      <th>2114</th>\n",
       "      <td>91350</td>\n",
       "      <td>1282.514</td>\n",
       "      <td>530.1989</td>\n",
       "      <td>219.6541</td>\n",
       "      <td>92091</td>\n",
       "      <td>341.0432</td>\n",
       "      <td>0.9101</td>\n",
       "      <td>0.9920</td>\n",
       "      <td>0.5783</td>\n",
       "      <td>0.6979</td>\n",
       "      <td>2.4138</td>\n",
       "      <td>0.6432</td>\n",
       "      <td>0</td>\n",
       "    </tr>\n",
       "    <tr>\n",
       "      <th>76</th>\n",
       "      <td>69517</td>\n",
       "      <td>1059.538</td>\n",
       "      <td>429.8407</td>\n",
       "      <td>206.8250</td>\n",
       "      <td>70493</td>\n",
       "      <td>297.5093</td>\n",
       "      <td>0.8766</td>\n",
       "      <td>0.9862</td>\n",
       "      <td>0.6623</td>\n",
       "      <td>0.7782</td>\n",
       "      <td>2.0783</td>\n",
       "      <td>0.6921</td>\n",
       "      <td>1</td>\n",
       "    </tr>\n",
       "    <tr>\n",
       "      <th>341</th>\n",
       "      <td>59680</td>\n",
       "      <td>914.105</td>\n",
       "      <td>349.2239</td>\n",
       "      <td>218.2894</td>\n",
       "      <td>60057</td>\n",
       "      <td>275.6573</td>\n",
       "      <td>0.7806</td>\n",
       "      <td>0.9937</td>\n",
       "      <td>0.7221</td>\n",
       "      <td>0.8975</td>\n",
       "      <td>1.5998</td>\n",
       "      <td>0.7893</td>\n",
       "      <td>1</td>\n",
       "    </tr>\n",
       "    <tr>\n",
       "      <th>1794</th>\n",
       "      <td>84061</td>\n",
       "      <td>1264.182</td>\n",
       "      <td>552.5271</td>\n",
       "      <td>194.4664</td>\n",
       "      <td>84836</td>\n",
       "      <td>327.1541</td>\n",
       "      <td>0.9360</td>\n",
       "      <td>0.9909</td>\n",
       "      <td>0.7553</td>\n",
       "      <td>0.6610</td>\n",
       "      <td>2.8412</td>\n",
       "      <td>0.5921</td>\n",
       "      <td>0</td>\n",
       "    </tr>\n",
       "    <tr>\n",
       "      <th>1025</th>\n",
       "      <td>83736</td>\n",
       "      <td>1108.281</td>\n",
       "      <td>431.5197</td>\n",
       "      <td>248.0819</td>\n",
       "      <td>84458</td>\n",
       "      <td>326.5210</td>\n",
       "      <td>0.8182</td>\n",
       "      <td>0.9915</td>\n",
       "      <td>0.7268</td>\n",
       "      <td>0.8567</td>\n",
       "      <td>1.7394</td>\n",
       "      <td>0.7567</td>\n",
       "      <td>1</td>\n",
       "    </tr>\n",
       "    <tr>\n",
       "      <th>2158</th>\n",
       "      <td>93398</td>\n",
       "      <td>1241.998</td>\n",
       "      <td>509.9614</td>\n",
       "      <td>234.5406</td>\n",
       "      <td>94916</td>\n",
       "      <td>344.8449</td>\n",
       "      <td>0.8880</td>\n",
       "      <td>0.9840</td>\n",
       "      <td>0.7422</td>\n",
       "      <td>0.7609</td>\n",
       "      <td>2.1743</td>\n",
       "      <td>0.6762</td>\n",
       "      <td>0</td>\n",
       "    </tr>\n",
       "    <tr>\n",
       "      <th>21</th>\n",
       "      <td>82196</td>\n",
       "      <td>1141.067</td>\n",
       "      <td>466.2324</td>\n",
       "      <td>225.8543</td>\n",
       "      <td>82991</td>\n",
       "      <td>323.5046</td>\n",
       "      <td>0.8748</td>\n",
       "      <td>0.9904</td>\n",
       "      <td>0.6702</td>\n",
       "      <td>0.7933</td>\n",
       "      <td>2.0643</td>\n",
       "      <td>0.6939</td>\n",
       "      <td>1</td>\n",
       "    </tr>\n",
       "    <tr>\n",
       "      <th>927</th>\n",
       "      <td>84080</td>\n",
       "      <td>1146.835</td>\n",
       "      <td>453.8263</td>\n",
       "      <td>238.3155</td>\n",
       "      <td>85182</td>\n",
       "      <td>327.1910</td>\n",
       "      <td>0.8510</td>\n",
       "      <td>0.9871</td>\n",
       "      <td>0.7400</td>\n",
       "      <td>0.8033</td>\n",
       "      <td>1.9043</td>\n",
       "      <td>0.7210</td>\n",
       "      <td>1</td>\n",
       "    </tr>\n",
       "    <tr>\n",
       "      <th>549</th>\n",
       "      <td>70636</td>\n",
       "      <td>1008.081</td>\n",
       "      <td>392.4988</td>\n",
       "      <td>230.0150</td>\n",
       "      <td>71177</td>\n",
       "      <td>299.8942</td>\n",
       "      <td>0.8103</td>\n",
       "      <td>0.9924</td>\n",
       "      <td>0.7322</td>\n",
       "      <td>0.8735</td>\n",
       "      <td>1.7064</td>\n",
       "      <td>0.7641</td>\n",
       "      <td>1</td>\n",
       "    </tr>\n",
       "  </tbody>\n",
       "</table>\n",
       "</div>"
      ],
      "text/plain": [
       "       Area  Perimeter  Major_Axis_Length  Minor_Axis_Length  Convex_Area  \\\n",
       "2065  59856    978.841           407.0930           188.2279        60556   \n",
       "2114  91350   1282.514           530.1989           219.6541        92091   \n",
       "76    69517   1059.538           429.8407           206.8250        70493   \n",
       "341   59680    914.105           349.2239           218.2894        60057   \n",
       "1794  84061   1264.182           552.5271           194.4664        84836   \n",
       "1025  83736   1108.281           431.5197           248.0819        84458   \n",
       "2158  93398   1241.998           509.9614           234.5406        94916   \n",
       "21    82196   1141.067           466.2324           225.8543        82991   \n",
       "927   84080   1146.835           453.8263           238.3155        85182   \n",
       "549   70636   1008.081           392.4988           230.0150        71177   \n",
       "\n",
       "      Equiv_Diameter  Eccentricity  Solidity  Extent  Roundness  \\\n",
       "2065        276.0634        0.8867    0.9884  0.7447     0.7850   \n",
       "2114        341.0432        0.9101    0.9920  0.5783     0.6979   \n",
       "76          297.5093        0.8766    0.9862  0.6623     0.7782   \n",
       "341         275.6573        0.7806    0.9937  0.7221     0.8975   \n",
       "1794        327.1541        0.9360    0.9909  0.7553     0.6610   \n",
       "1025        326.5210        0.8182    0.9915  0.7268     0.8567   \n",
       "2158        344.8449        0.8880    0.9840  0.7422     0.7609   \n",
       "21          323.5046        0.8748    0.9904  0.6702     0.7933   \n",
       "927         327.1910        0.8510    0.9871  0.7400     0.8033   \n",
       "549         299.8942        0.8103    0.9924  0.7322     0.8735   \n",
       "\n",
       "      Aspect_Ration  Compactness  Class  \n",
       "2065         2.1628       0.6781      0  \n",
       "2114         2.4138       0.6432      0  \n",
       "76           2.0783       0.6921      1  \n",
       "341          1.5998       0.7893      1  \n",
       "1794         2.8412       0.5921      0  \n",
       "1025         1.7394       0.7567      1  \n",
       "2158         2.1743       0.6762      0  \n",
       "21           2.0643       0.6939      1  \n",
       "927          1.9043       0.7210      1  \n",
       "549          1.7064       0.7641      1  "
      ]
     },
     "execution_count": 10,
     "metadata": {},
     "output_type": "execute_result"
    }
   ],
   "source": [
    "df.head(10)"
   ]
  },
  {
   "cell_type": "code",
   "execution_count": 11,
   "id": "147aa9cf",
   "metadata": {
    "execution": {
     "iopub.execute_input": "2023-10-09T09:32:36.384950Z",
     "iopub.status.busy": "2023-10-09T09:32:36.384386Z",
     "iopub.status.idle": "2023-10-09T09:32:36.395299Z",
     "shell.execute_reply": "2023-10-09T09:32:36.393855Z"
    },
    "papermill": {
     "duration": 0.0292,
     "end_time": "2023-10-09T09:32:36.398524",
     "exception": false,
     "start_time": "2023-10-09T09:32:36.369324",
     "status": "completed"
    },
    "tags": []
   },
   "outputs": [],
   "source": [
    "X_df=df.drop(['Class'],axis='columns')\n",
    "Y_df=df['Class']"
   ]
  },
  {
   "cell_type": "markdown",
   "id": "1766cc3d",
   "metadata": {
    "papermill": {
     "duration": 0.011274,
     "end_time": "2023-10-09T09:32:36.421727",
     "exception": false,
     "start_time": "2023-10-09T09:32:36.410453",
     "status": "completed"
    },
    "tags": []
   },
   "source": [
    "## Standardization"
   ]
  },
  {
   "cell_type": "code",
   "execution_count": 12,
   "id": "9a7abb1c",
   "metadata": {
    "execution": {
     "iopub.execute_input": "2023-10-09T09:32:36.447896Z",
     "iopub.status.busy": "2023-10-09T09:32:36.447524Z",
     "iopub.status.idle": "2023-10-09T09:32:38.013498Z",
     "shell.execute_reply": "2023-10-09T09:32:38.011701Z"
    },
    "papermill": {
     "duration": 1.583947,
     "end_time": "2023-10-09T09:32:38.017282",
     "exception": false,
     "start_time": "2023-10-09T09:32:36.433335",
     "status": "completed"
    },
    "tags": []
   },
   "outputs": [],
   "source": [
    "from sklearn.preprocessing import StandardScaler\n",
    "\n",
    "scaler = StandardScaler()\n",
    "X_df_stand = scaler.fit_transform(X_df)"
   ]
  },
  {
   "cell_type": "code",
   "execution_count": 13,
   "id": "e47b962f",
   "metadata": {
    "execution": {
     "iopub.execute_input": "2023-10-09T09:32:38.042988Z",
     "iopub.status.busy": "2023-10-09T09:32:38.042017Z",
     "iopub.status.idle": "2023-10-09T09:32:38.046421Z",
     "shell.execute_reply": "2023-10-09T09:32:38.045627Z"
    },
    "papermill": {
     "duration": 0.020225,
     "end_time": "2023-10-09T09:32:38.048804",
     "exception": false,
     "start_time": "2023-10-09T09:32:38.028579",
     "status": "completed"
    },
    "tags": []
   },
   "outputs": [],
   "source": [
    "X=np.array(X_df_stand)\n",
    "Y=np.array(Y_df)"
   ]
  },
  {
   "cell_type": "code",
   "execution_count": 14,
   "id": "89714342",
   "metadata": {
    "execution": {
     "iopub.execute_input": "2023-10-09T09:32:38.075412Z",
     "iopub.status.busy": "2023-10-09T09:32:38.074710Z",
     "iopub.status.idle": "2023-10-09T09:32:38.080887Z",
     "shell.execute_reply": "2023-10-09T09:32:38.079657Z"
    },
    "papermill": {
     "duration": 0.021681,
     "end_time": "2023-10-09T09:32:38.083094",
     "exception": false,
     "start_time": "2023-10-09T09:32:38.061413",
     "status": "completed"
    },
    "tags": []
   },
   "outputs": [
    {
     "name": "stdout",
     "output_type": "stream",
     "text": [
      "(12, 2500) (1, 2500)\n"
     ]
    }
   ],
   "source": [
    "\n",
    "X=X.reshape(X.shape[0], -1).T\n",
    "Y=Y.reshape(Y.shape[0], -1).T\n",
    "print(X.shape, Y.shape)"
   ]
  },
  {
   "cell_type": "markdown",
   "id": "583d68fd",
   "metadata": {
    "papermill": {
     "duration": 0.01404,
     "end_time": "2023-10-09T09:32:38.108680",
     "exception": false,
     "start_time": "2023-10-09T09:32:38.094640",
     "status": "completed"
    },
    "tags": []
   },
   "source": [
    "Now we have a dataset that has 12 features and 2500 number of example."
   ]
  },
  {
   "cell_type": "markdown",
   "id": "9332920b",
   "metadata": {
    "papermill": {
     "duration": 0.011234,
     "end_time": "2023-10-09T09:32:38.133156",
     "exception": false,
     "start_time": "2023-10-09T09:32:38.121922",
     "status": "completed"
    },
    "tags": []
   },
   "source": [
    "# <b>2 <span style='color:#c72b2ed4'>|</span> Test Train Split</b>"
   ]
  },
  {
   "cell_type": "code",
   "execution_count": 15,
   "id": "7739f3a4",
   "metadata": {
    "execution": {
     "iopub.execute_input": "2023-10-09T09:32:38.161546Z",
     "iopub.status.busy": "2023-10-09T09:32:38.159972Z",
     "iopub.status.idle": "2023-10-09T09:32:38.167491Z",
     "shell.execute_reply": "2023-10-09T09:32:38.165910Z"
    },
    "papermill": {
     "duration": 0.023726,
     "end_time": "2023-10-09T09:32:38.170058",
     "exception": false,
     "start_time": "2023-10-09T09:32:38.146332",
     "status": "completed"
    },
    "tags": []
   },
   "outputs": [],
   "source": [
    "# Define the ratio for splitting\n",
    "train_ratio = 0.8\n",
    "split_index=int(X.shape[1]*train_ratio)\n",
    "\n",
    "# Split the shuffled data and labels into training and testing sets\n",
    "X_train = X[:, :split_index]\n",
    "Y_train = Y[:, :split_index]\n",
    "X_test= X[:, split_index:]\n",
    "Y_test= Y[:, split_index:]"
   ]
  },
  {
   "cell_type": "code",
   "execution_count": 16,
   "id": "a9a86c16",
   "metadata": {
    "execution": {
     "iopub.execute_input": "2023-10-09T09:32:38.197515Z",
     "iopub.status.busy": "2023-10-09T09:32:38.196851Z",
     "iopub.status.idle": "2023-10-09T09:32:38.202641Z",
     "shell.execute_reply": "2023-10-09T09:32:38.201658Z"
    },
    "papermill": {
     "duration": 0.021086,
     "end_time": "2023-10-09T09:32:38.204589",
     "exception": false,
     "start_time": "2023-10-09T09:32:38.183503",
     "status": "completed"
    },
    "tags": []
   },
   "outputs": [
    {
     "name": "stdout",
     "output_type": "stream",
     "text": [
      "X_train shape: (12, 2000)\n",
      "X_test shape: (12, 500)\n",
      "Y_train shape: (1, 2000)\n",
      "Y_test shape: (1, 500)\n"
     ]
    }
   ],
   "source": [
    "# Check the shapes of the resulting arrays\n",
    "print(\"X_train shape:\", X_train.shape)\n",
    "print(\"X_test shape:\", X_test.shape)\n",
    "print(\"Y_train shape:\", Y_train.shape)\n",
    "print(\"Y_test shape:\", Y_test.shape)"
   ]
  },
  {
   "cell_type": "markdown",
   "id": "353eb6cc",
   "metadata": {
    "papermill": {
     "duration": 0.011989,
     "end_time": "2023-10-09T09:32:38.227766",
     "exception": false,
     "start_time": "2023-10-09T09:32:38.215777",
     "status": "completed"
    },
    "tags": []
   },
   "source": [
    "# <b>3 <span style='color:#c72b2ed4'>|</span>Artifical Neural Network</b> "
   ]
  },
  {
   "cell_type": "markdown",
   "id": "ea41ed1d",
   "metadata": {
    "papermill": {
     "duration": 0.01275,
     "end_time": "2023-10-09T09:32:38.252255",
     "exception": false,
     "start_time": "2023-10-09T09:32:38.239505",
     "status": "completed"
    },
    "tags": []
   },
   "source": [
    "# <b>3.1 <span style='color:#c72b2ed4'>|</span>Forward propogation</b> "
   ]
  },
  {
   "cell_type": "code",
   "execution_count": 17,
   "id": "7f212930",
   "metadata": {
    "execution": {
     "iopub.execute_input": "2023-10-09T09:32:38.281023Z",
     "iopub.status.busy": "2023-10-09T09:32:38.280680Z",
     "iopub.status.idle": "2023-10-09T09:32:38.288223Z",
     "shell.execute_reply": "2023-10-09T09:32:38.286547Z"
    },
    "papermill": {
     "duration": 0.023283,
     "end_time": "2023-10-09T09:32:38.290715",
     "exception": false,
     "start_time": "2023-10-09T09:32:38.267432",
     "status": "completed"
    },
    "tags": []
   },
   "outputs": [],
   "source": [
    "#initialize_parameters\n",
    "\n",
    "def initialize_parameters(layer_dims):\n",
    "    \"\"\"\n",
    "    Arguments:\n",
    "    layer_dims --  array (list) containing the dimensions of each layer in our network\n",
    "    \n",
    "    Returns:\n",
    "    parameters --  dictionary containing  parameters \"W1\", \"b1\", ..., \"WL\", \"bL\":\n",
    "                    Wl -- weight matrix of shape (layer_dims[l], layer_dims[l-1])\n",
    "                    bl -- bias vector of shape (layer_dims[l], 1)\n",
    "    \"\"\"\n",
    "    \n",
    "    parameters = {}\n",
    "    L = len(layer_dims) # number of layers in the network\n",
    "\n",
    "    for l in range(1, L):\n",
    "        \n",
    "        parameters['W' + str(l)] = np.random.randn(layer_dims[l], layer_dims[l-1]) * np.sqrt(2/layer_dims[l-1]) #or *0.01\n",
    "        parameters['b' + str(l)] = np.zeros((layer_dims[l], 1))\n",
    "        \n",
    "    return parameters"
   ]
  },
  {
   "cell_type": "markdown",
   "id": "73ff8e30",
   "metadata": {
    "papermill": {
     "duration": 0.010969,
     "end_time": "2023-10-09T09:32:38.313175",
     "exception": false,
     "start_time": "2023-10-09T09:32:38.302206",
     "status": "completed"
    },
    "tags": []
   },
   "source": [
    "$$Z^{[l]} = W^{[l]}A^{[l-1]} +b^{[l]}$$\n",
    "* For sigmoid activation in output layer: $A=\\sigma(Z) = \\sigma(W A + b) = \\frac{1}{ 1 + e^{-Z}}$\n",
    "* For RelU activation $A = RELU(Z) = max(0, Z)$"
   ]
  },
  {
   "cell_type": "code",
   "execution_count": 18,
   "id": "8da987aa",
   "metadata": {
    "execution": {
     "iopub.execute_input": "2023-10-09T09:32:38.339291Z",
     "iopub.status.busy": "2023-10-09T09:32:38.338601Z",
     "iopub.status.idle": "2023-10-09T09:32:38.345005Z",
     "shell.execute_reply": "2023-10-09T09:32:38.344032Z"
    },
    "papermill": {
     "duration": 0.022224,
     "end_time": "2023-10-09T09:32:38.347389",
     "exception": false,
     "start_time": "2023-10-09T09:32:38.325165",
     "status": "completed"
    },
    "tags": []
   },
   "outputs": [],
   "source": [
    "def linear_activation_forward(A_prev, W, b, activation):\n",
    "    \"\"\"\n",
    "    Arguments:\n",
    "    A_prev -- activations from previous layer (or input data): \n",
    "    W -- weights matrix: numpy array of shape (size of current layer, size of previous layer)\n",
    "    b -- bias vector, numpy array of shape (size of the current layer, 1)\n",
    "    activation -- the activation to be used in this layer, stored as a text string: \"sigmoid\" or \"relu\"\n",
    "\n",
    "    Returns:\n",
    "    A -- the output of the activation function, also called the post-activation value \n",
    "    cache -- a  tuple containing \"linear_cache\" and \"activation_cache\"stored for computing the backward propagation\n",
    "    \"\"\"\n",
    "    Z = W.dot(A_prev) + b\n",
    "    linear_cache = (A_prev, W, b)\n",
    "    \n",
    "    if activation == \"sigmoid\":\n",
    "        A = 1/(1+np.exp(-Z))\n",
    "        \n",
    "    elif activation == \"relu\":\n",
    "        A = np.maximum(0,Z) \n",
    "       \n",
    "    activation_cache = Z    \n",
    "    cache = (linear_cache, activation_cache)\n",
    "\n",
    "    return A, cache"
   ]
  },
  {
   "cell_type": "code",
   "execution_count": 19,
   "id": "dbb3a98a",
   "metadata": {
    "execution": {
     "iopub.execute_input": "2023-10-09T09:32:38.373669Z",
     "iopub.status.busy": "2023-10-09T09:32:38.373287Z",
     "iopub.status.idle": "2023-10-09T09:32:38.380026Z",
     "shell.execute_reply": "2023-10-09T09:32:38.378746Z"
    },
    "papermill": {
     "duration": 0.022859,
     "end_time": "2023-10-09T09:32:38.382470",
     "exception": false,
     "start_time": "2023-10-09T09:32:38.359611",
     "status": "completed"
    },
    "tags": []
   },
   "outputs": [],
   "source": [
    "\n",
    "def forward_propagation(X, parameters):\n",
    "    \"\"\"    \n",
    "    Arguments:\n",
    "    X -- data, numpy array of shape (input size, number of examples)\n",
    "    parameters -- output of initialize_parameters_deep()\n",
    "    \n",
    "    Returns:\n",
    "    AL -- activation value from the output (last) layer\n",
    "    caches -- list of caches containing:\n",
    "                every cache of linear_activation_forward() (there are L of them, indexed from 0 to L-1)\n",
    "    \"\"\"\n",
    "\n",
    "    caches = []\n",
    "    A = X\n",
    "    L = len(parameters) // 2                  # number of layers in the neural network\n",
    "    \n",
    "    # Hidden Layers [LINEAR -> RELU]*(L-1).\n",
    "    for l in range(1, L):\n",
    "        A_prev = A \n",
    "        A, cache = linear_activation_forward(A_prev, parameters['W' + str(l)], parameters['b' + str(l)], activation='relu')\n",
    "        caches.append(cache)\n",
    "    \n",
    "    # OUTPUT Layers : LINEAR -> SIGMOID.\n",
    "    AL, cache = linear_activation_forward(A, parameters['W' + str(L)], parameters['b' + str(L)], activation='sigmoid')\n",
    "    caches.append(cache)\n",
    "          \n",
    "    return AL, caches"
   ]
  },
  {
   "cell_type": "markdown",
   "id": "d724d80d",
   "metadata": {
    "papermill": {
     "duration": 0.012098,
     "end_time": "2023-10-09T09:32:38.406533",
     "exception": false,
     "start_time": "2023-10-09T09:32:38.394435",
     "status": "completed"
    },
    "tags": []
   },
   "source": [
    "# <b>3.2 <span style='color:#c72b2ed4'>|</span>Cost Function</b> "
   ]
  },
  {
   "cell_type": "markdown",
   "id": "9fb76dbb",
   "metadata": {
    "papermill": {
     "duration": 0.011931,
     "end_time": "2023-10-09T09:32:38.429931",
     "exception": false,
     "start_time": "2023-10-09T09:32:38.418000",
     "status": "completed"
    },
    "tags": []
   },
   "source": [
    "Compute the cost, using the following formula: $$Cost=-\\frac{1}{m} \\sum\\limits_{i = 1}^{m} (y^{(i)}\\log\\left(a^{[L] (i)}\\right) + (1-y^{(i)})\\log\\left(1- a^{[L](i)}\\right))$$\n"
   ]
  },
  {
   "cell_type": "code",
   "execution_count": 20,
   "id": "90a087db",
   "metadata": {
    "execution": {
     "iopub.execute_input": "2023-10-09T09:32:38.457833Z",
     "iopub.status.busy": "2023-10-09T09:32:38.457451Z",
     "iopub.status.idle": "2023-10-09T09:32:38.463229Z",
     "shell.execute_reply": "2023-10-09T09:32:38.462099Z"
    },
    "papermill": {
     "duration": 0.022571,
     "end_time": "2023-10-09T09:32:38.465282",
     "exception": false,
     "start_time": "2023-10-09T09:32:38.442711",
     "status": "completed"
    },
    "tags": []
   },
   "outputs": [],
   "source": [
    "def cost(AL, Y, epsilon=1e-8):\n",
    "    \"\"\"\n",
    "    Arguments:\n",
    "    AL -- probability vector corresponding to label predictions, shape (1, number of examples)\n",
    "    Y -- true \"label\" vector (for example: containing 0 if non-cat, 1 if cat), shape (1, number of examples)\n",
    "    epsilon-- very small number that prevent division by zero. \n",
    "    Adding a small epsilon value to the logarithmic terms in the cost function does not significantly affect the overall cost value.\n",
    "\n",
    "    Returns:\n",
    "    cost -- cross-entropy cost\n",
    "    \"\"\"\n",
    "    \n",
    "    m = Y.shape[1]\n",
    "\n",
    "    # Add epsilon to prevent division by zero\n",
    "    c = (1./m) * (-np.dot(Y, np.log(AL + epsilon).T) - np.dot(1-Y, np.log(1-AL + epsilon).T))\n",
    "    \n",
    "    c = np.squeeze(c)      # To make sure your cost's shape is what we expect (e.g. this turns [[17]] into 17).\n",
    "\n",
    "    \n",
    "    return c"
   ]
  },
  {
   "cell_type": "markdown",
   "id": "d53090a5",
   "metadata": {
    "papermill": {
     "duration": 0.01201,
     "end_time": "2023-10-09T09:32:38.488995",
     "exception": false,
     "start_time": "2023-10-09T09:32:38.476985",
     "status": "completed"
    },
    "tags": []
   },
   "source": [
    "# <b>3.3 <span style='color:#c72b2ed4'>|</span>Backward propogation</b> "
   ]
  },
  {
   "cell_type": "markdown",
   "id": "9aa62360",
   "metadata": {
    "papermill": {
     "duration": 0.01234,
     "end_time": "2023-10-09T09:32:38.515370",
     "exception": false,
     "start_time": "2023-10-09T09:32:38.503030",
     "status": "completed"
    },
    "tags": []
   },
   "source": [
    "$$ dW^{[l]} = \\frac{\\partial \\mathcal{J} }{\\partial W^{[l]}} = \\frac{1}{m} dZ^{[l]} A^{[l-1] T} $$\n",
    "$$ db^{[l]} = \\frac{\\partial \\mathcal{J} }{\\partial b^{[l]}} = \\frac{1}{m} \\sum_{i = 1}^{m} dZ^{[l](i)}$$\n",
    "$$ dA^{[l-1]} = \\frac{\\partial \\mathcal{L} }{\\partial A^{[l-1]}} = W^{[l] T} dZ^{[l]} $$"
   ]
  },
  {
   "cell_type": "code",
   "execution_count": 21,
   "id": "f7bdce67",
   "metadata": {
    "execution": {
     "iopub.execute_input": "2023-10-09T09:32:38.539647Z",
     "iopub.status.busy": "2023-10-09T09:32:38.539293Z",
     "iopub.status.idle": "2023-10-09T09:32:38.545660Z",
     "shell.execute_reply": "2023-10-09T09:32:38.544961Z"
    },
    "papermill": {
     "duration": 0.020623,
     "end_time": "2023-10-09T09:32:38.547410",
     "exception": false,
     "start_time": "2023-10-09T09:32:38.526787",
     "status": "completed"
    },
    "tags": []
   },
   "outputs": [],
   "source": [
    "def linear_activation_backward(dA, cache, activation):\n",
    "    \"\"\"    \n",
    "    Arguments:\n",
    "    dA -- post-activation gradient for current layer l \n",
    "    cache -- tuple of values (linear_cache, activation_cache) we store for computing backward propagation efficiently\n",
    "    activation -- the activation to be used in this layer, stored as a text string: \"sigmoid\" or \"relu\"\n",
    "    \n",
    "    Returns:\n",
    "    dA_prev -- Gradient of the cost with respect to the activation (of the previous layer l-1), same shape as A_prev\n",
    "    dW -- Gradient of the cost with respect to W (current layer l), same shape as W\n",
    "    db -- Gradient of the cost with respect to b (current layer l), same shape as b\n",
    "    \"\"\"\n",
    "    \n",
    "    linear_cache, activation_cache = cache\n",
    "    \n",
    "    Z = activation_cache\n",
    "    if activation == \"relu\":\n",
    "        dZ = np.array(dA, copy=True)\n",
    "        dZ[Z <= 0] = 0 # When z <= 0, we should set dz to 0 as well.\n",
    "        \n",
    "    elif activation == \"sigmoid\":\n",
    "        s = 1/(1+np.exp(-Z))\n",
    "        dZ = dA * s * (1-s)\n",
    "        \n",
    "    else:\n",
    "        raise ValueError(\"Please make sure you have passed the value correctly in the 'activation' parameter\")\n",
    "    \n",
    "    A_prev, W, b = linear_cache\n",
    "    m = A_prev.shape[1]\n",
    "\n",
    "    dW = 1./m * np.dot(dZ,A_prev.T)\n",
    "    db = 1./m * np.sum(dZ, axis = 1, keepdims = True)\n",
    "    dA_prev = np.dot(W.T,dZ)\n",
    "    \n",
    "    return dA_prev, dW, db"
   ]
  },
  {
   "cell_type": "code",
   "execution_count": 22,
   "id": "08a55260",
   "metadata": {
    "execution": {
     "iopub.execute_input": "2023-10-09T09:32:38.572406Z",
     "iopub.status.busy": "2023-10-09T09:32:38.571744Z",
     "iopub.status.idle": "2023-10-09T09:32:38.579487Z",
     "shell.execute_reply": "2023-10-09T09:32:38.578351Z"
    },
    "papermill": {
     "duration": 0.023017,
     "end_time": "2023-10-09T09:32:38.581827",
     "exception": false,
     "start_time": "2023-10-09T09:32:38.558810",
     "status": "completed"
    },
    "tags": []
   },
   "outputs": [],
   "source": [
    "def backward_propagation(AL, Y, caches):\n",
    "    \"\"\"    \n",
    "    Arguments:\n",
    "    AL -- probability vector, output of the forward propagation \n",
    "    Y -- true \"label\" vector (containing 0 if non-cat, 1 if cat)\n",
    "    caches -- list of caches containing:\n",
    "                every cache of linear_activation_forward() with \"relu\" (there are (L-1) or them, indexes from 0 to L-2)\n",
    "                the cache of linear_activation_forward() with \"sigmoid\" (there is one, index L-1)\n",
    "    \n",
    "    Returns:\n",
    "    grads -- A dictionary with the gradients\n",
    "             grads[\"dA\" + str(l)] = ... \n",
    "             grads[\"dW\" + str(l)] = ...\n",
    "             grads[\"db\" + str(l)] = ... \n",
    "    \"\"\"\n",
    "    grads = {}\n",
    "    L = len(caches) # the number of layers\n",
    "    m = AL.shape[1]\n",
    "    Y = Y.reshape(AL.shape) \n",
    "    \n",
    "    # Initializing the backpropagation\n",
    "    dAL = - (np.divide(Y, AL) - np.divide(1 - Y, 1 - AL)) # derivative of cost with respect to AL\n",
    "    \n",
    "    # Lth layer (SIGMOID -> LINEAR) gradients.\n",
    "    current_cache = caches[L-1]\n",
    "    grads[\"dA\" + str(L-1)], grads[\"dW\" + str(L)], grads[\"db\" + str(L)] = linear_activation_backward(dAL, current_cache, activation = \"sigmoid\")\n",
    "    \n",
    "    for l in reversed(range(L-1)):\n",
    "        # lth layer: (RELU -> LINEAR) gradients.\n",
    "        current_cache = caches[l]\n",
    "        dA_prev_temp, dW_temp, db_temp = linear_activation_backward(grads[\"dA\" + str(l + 1)], current_cache, activation = \"relu\")\n",
    "        grads[\"dA\" + str(l)] = dA_prev_temp\n",
    "        grads[\"dW\" + str(l + 1)] = dW_temp\n",
    "        grads[\"db\" + str(l + 1)] = db_temp\n",
    "\n",
    "    return grads"
   ]
  },
  {
   "cell_type": "markdown",
   "id": "381696bd",
   "metadata": {
    "papermill": {
     "duration": 0.011073,
     "end_time": "2023-10-09T09:32:38.604145",
     "exception": false,
     "start_time": "2023-10-09T09:32:38.593072",
     "status": "completed"
    },
    "tags": []
   },
   "source": [
    "# <b>3.4 <span style='color:#c72b2ed4'>|</span>Optimizer</b> "
   ]
  },
  {
   "cell_type": "code",
   "execution_count": 23,
   "id": "844cf4ac",
   "metadata": {
    "execution": {
     "iopub.execute_input": "2023-10-09T09:32:38.629003Z",
     "iopub.status.busy": "2023-10-09T09:32:38.628414Z",
     "iopub.status.idle": "2023-10-09T09:32:38.634514Z",
     "shell.execute_reply": "2023-10-09T09:32:38.633679Z"
    },
    "papermill": {
     "duration": 0.021,
     "end_time": "2023-10-09T09:32:38.636592",
     "exception": false,
     "start_time": "2023-10-09T09:32:38.615592",
     "status": "completed"
    },
    "tags": []
   },
   "outputs": [],
   "source": [
    "def gradient_descent(parameters, grads, learning_rate):\n",
    "    \"\"\"\n",
    "    Arguments:\n",
    "    parameters --  dictionary containing parameters \n",
    "    grads --  dictionary containing gradients, output of backward_propagation\n",
    "    \n",
    "    Returns:\n",
    "    parameters --  dictionary containing updated parameters \n",
    "    \"\"\"\n",
    "    \n",
    "    L = len(parameters) // 2 # number of layers in the neural network\n",
    "\n",
    "    # Update rule for each parameter.\n",
    "    for l in range(L):\n",
    "        parameters[\"W\" + str(l+1)] = parameters[\"W\" + str(l+1)] - learning_rate * grads[\"dW\" + str(l+1)]\n",
    "        parameters[\"b\" + str(l+1)] = parameters[\"b\" + str(l+1)] - learning_rate * grads[\"db\" + str(l+1)]\n",
    "        \n",
    "    return parameters"
   ]
  },
  {
   "cell_type": "markdown",
   "id": "89739285",
   "metadata": {
    "papermill": {
     "duration": 0.011459,
     "end_time": "2023-10-09T09:32:38.659665",
     "exception": false,
     "start_time": "2023-10-09T09:32:38.648206",
     "status": "completed"
    },
    "tags": []
   },
   "source": [
    "# <b>3.5 <span style='color:#c72b2ed4'>|</span>ANN Model</b> "
   ]
  },
  {
   "cell_type": "code",
   "execution_count": 24,
   "id": "7add59a3",
   "metadata": {
    "execution": {
     "iopub.execute_input": "2023-10-09T09:32:38.684873Z",
     "iopub.status.busy": "2023-10-09T09:32:38.684279Z",
     "iopub.status.idle": "2023-10-09T09:32:38.691758Z",
     "shell.execute_reply": "2023-10-09T09:32:38.690992Z"
    },
    "papermill": {
     "duration": 0.022833,
     "end_time": "2023-10-09T09:32:38.694085",
     "exception": false,
     "start_time": "2023-10-09T09:32:38.671252",
     "status": "completed"
    },
    "tags": []
   },
   "outputs": [],
   "source": [
    "\n",
    "def ANN(X, Y, layers_dims,learning_rate = 0.0075, num_iterations = 3000, print_cost=False):\n",
    "    \"\"\"\n",
    "    Arguments:\n",
    "    X -- input data, of shape (n_x, number of examples)\n",
    "    Y -- true \"label\" vector (containing 1 if cat, 0 if non-cat), of shape (1, number of examples)\n",
    "    layers_dims -- list containing the input size and each layer size, of length (number of layers + 1).\n",
    "    learning_rate -- learning rate of the gradient descent update rule\n",
    "    num_iterations -- number of iterations of the optimization loop\n",
    "    \n",
    "    \n",
    "    Returns:\n",
    "    parameters -- parameters learnt by the model. They can then be used to predict.\n",
    "    \"\"\"\n",
    "\n",
    "    costs = [] \n",
    "    \n",
    "    # Parameters initialization.\n",
    "    parameters =initialize_parameters(layers_dims)\n",
    "\n",
    "    \n",
    "    for i in range(0, num_iterations):\n",
    "\n",
    "        # Forward propagation: [LINEAR -> RELU]*(L-1) -> LINEAR -> SIGMOID.\n",
    "        AL, caches = forward_propagation(X, parameters)\n",
    "        \n",
    "        # Compute cost.\n",
    "        c = cost(AL, Y)\n",
    "        \n",
    "        #stoping criteria (if cost increase 5 times in a row then this will stop the loop)\n",
    "        count=0 \n",
    "        if costs:\n",
    "            if c>costs[-1]:\n",
    "                count+=1\n",
    "            else:\n",
    "                count=0\n",
    "        if count>=5:\n",
    "            break\n",
    "    \n",
    "        # Backward propagation.\n",
    "        grads = backward_propagation(AL, Y, caches)\n",
    "         \n",
    " \n",
    "        # Update parameters.\n",
    "        parameters = gradient_descent(parameters, grads, learning_rate)\n",
    "        \n",
    "                \n",
    "        if print_cost and i % 500 == 0 or i == num_iterations - 1:\n",
    "            print(\"Cost after iteration {}: {}\".format(i, np.squeeze(c)))\n",
    "        \n",
    "        costs.append(c)\n",
    "        \n",
    "    #ploting the costs\n",
    "    plt.plot(costs)\n",
    "    plt.show()\n",
    "    \n",
    "    return parameters, costs"
   ]
  },
  {
   "cell_type": "code",
   "execution_count": 25,
   "id": "720af2aa",
   "metadata": {
    "execution": {
     "iopub.execute_input": "2023-10-09T09:32:38.721181Z",
     "iopub.status.busy": "2023-10-09T09:32:38.720563Z",
     "iopub.status.idle": "2023-10-09T09:32:38.726698Z",
     "shell.execute_reply": "2023-10-09T09:32:38.725585Z"
    },
    "papermill": {
     "duration": 0.023515,
     "end_time": "2023-10-09T09:32:38.729623",
     "exception": false,
     "start_time": "2023-10-09T09:32:38.706108",
     "status": "completed"
    },
    "tags": []
   },
   "outputs": [],
   "source": [
    "def predict(X, y, parameters):\n",
    "    \"\"\"\n",
    "    Arguments:\n",
    "    X -- data set of examples you would like to label\n",
    "    parameters -- parameters of the trained model\n",
    "    \n",
    "    Returns:\n",
    "    p -- predictions for the given dataset X\n",
    "    \"\"\"\n",
    "    \n",
    "    m = X.shape[1]\n",
    "    n = len(parameters) // 2 # number of layers in the neural network\n",
    "    p = np.zeros((1,m))\n",
    "    \n",
    "    # Forward propagation\n",
    "    probas, caches = forward_propagation(X, parameters)\n",
    "\n",
    "    \n",
    "    # convert probas to 0/1 predictions\n",
    "    for i in range(0, probas.shape[1]):\n",
    "        if probas[0,i] > 0.5:\n",
    "            p[0,i] = 1\n",
    "        else:\n",
    "            p[0,i] = 0\n",
    "   \n",
    "    #print results\n",
    "    #print (\"predictions: \" + str(p))\n",
    "    #print (\"true labels: \" + str(y))\n",
    "    print(\"Accuracy: \"  + str(np.sum((p == y)/m)))\n",
    "        \n",
    "    return p"
   ]
  },
  {
   "cell_type": "markdown",
   "id": "b1a01194",
   "metadata": {
    "papermill": {
     "duration": 0.01119,
     "end_time": "2023-10-09T09:32:38.752724",
     "exception": false,
     "start_time": "2023-10-09T09:32:38.741534",
     "status": "completed"
    },
    "tags": []
   },
   "source": [
    "# <b>4. <span style='color:#c72b2ed4'>|</span>Model Trainnig</b> "
   ]
  },
  {
   "cell_type": "code",
   "execution_count": 26,
   "id": "8e00a7a7",
   "metadata": {
    "execution": {
     "iopub.execute_input": "2023-10-09T09:32:38.778178Z",
     "iopub.status.busy": "2023-10-09T09:32:38.777461Z",
     "iopub.status.idle": "2023-10-09T09:34:57.972342Z",
     "shell.execute_reply": "2023-10-09T09:34:57.970276Z"
    },
    "papermill": {
     "duration": 139.210474,
     "end_time": "2023-10-09T09:34:57.974974",
     "exception": false,
     "start_time": "2023-10-09T09:32:38.764500",
     "status": "completed"
    },
    "tags": []
   },
   "outputs": [
    {
     "name": "stdout",
     "output_type": "stream",
     "text": [
      "Cost after iteration 0: 0.7310548104870912\n",
      "Cost after iteration 500: 0.7254311609200961\n",
      "Cost after iteration 1000: 0.7207239896187787\n",
      "Cost after iteration 1500: 0.716819372809375\n",
      "Cost after iteration 2000: 0.7132202790359192\n",
      "Cost after iteration 2500: 0.7100293956555068\n",
      "Cost after iteration 3000: 0.7071614288349924\n",
      "Cost after iteration 3500: 0.7045728871774466\n",
      "Cost after iteration 4000: 0.7022164587778186\n",
      "Cost after iteration 4500: 0.6999950227284739\n",
      "Cost after iteration 5000: 0.697934828347453\n",
      "Cost after iteration 5500: 0.6960542747780335\n",
      "Cost after iteration 6000: 0.6942548089709584\n",
      "Cost after iteration 6500: 0.6925079707194959\n",
      "Cost after iteration 7000: 0.6909256455826603\n",
      "Cost after iteration 7500: 0.6894051831756649\n",
      "Cost after iteration 8000: 0.6880061347950936\n",
      "Cost after iteration 8500: 0.6867167880036359\n",
      "Cost after iteration 9000: 0.6854978937331054\n",
      "Cost after iteration 9500: 0.6843090899945787\n",
      "Cost after iteration 10000: 0.6831877009895946\n",
      "Cost after iteration 10500: 0.6820923371266524\n",
      "Cost after iteration 11000: 0.6810604998170713\n",
      "Cost after iteration 11500: 0.6800798778618501\n",
      "Cost after iteration 12000: 0.6791146987215089\n",
      "Cost after iteration 12500: 0.6781712312397223\n",
      "Cost after iteration 13000: 0.6772439337191587\n",
      "Cost after iteration 13500: 0.676319137565736\n",
      "Cost after iteration 14000: 0.6754199134637167\n",
      "Cost after iteration 14500: 0.6745210311246655\n",
      "Cost after iteration 15000: 0.6736056070676745\n",
      "Cost after iteration 15500: 0.6727064562816015\n",
      "Cost after iteration 16000: 0.6717844005937482\n",
      "Cost after iteration 16500: 0.670861460722788\n",
      "Cost after iteration 17000: 0.669938156853377\n",
      "Cost after iteration 17500: 0.6689922168304112\n",
      "Cost after iteration 18000: 0.6680153195903824\n",
      "Cost after iteration 18500: 0.6669951939514007\n",
      "Cost after iteration 19000: 0.6659548512556556\n",
      "Cost after iteration 19500: 0.6648980208764768\n",
      "Cost after iteration 19999: 0.6638257662133242\n"
     ]
    },
    {
     "data": {
      "image/png": "[encoded data removed]",
      "text/plain": [
       "<Figure size 640x480 with 1 Axes>"
      ]
     },
     "metadata": {},
     "output_type": "display_data"
    }
   ],
   "source": [
    "n_x= X_train.shape[0] #input layer\n",
    "n_h1= 32 #number of nuron in first hidden layer\n",
    "n_h2=16  #number of nuron in second hidden layer\n",
    "n_h3=8  #number of nurons in third hidden layer\n",
    "n_h4=4  #number of nurons in fourth hidden layer\n",
    "n_o= 1 #number of nurons inoutput layer \n",
    "\n",
    "\n",
    "layers_dims = [n_x, n_h1, n_h2, n_h3,n_h4, n_o] #  5-layer model\n",
    "\n",
    "parameters, costs = ANN(X_train, Y_train, layers_dims,learning_rate = 0.00009, num_iterations = 20000, print_cost = True)\n",
    "\n"
   ]
  },
  {
   "cell_type": "markdown",
   "id": "de050911",
   "metadata": {
    "papermill": {
     "duration": 0.013709,
     "end_time": "2023-10-09T09:34:58.002991",
     "exception": false,
     "start_time": "2023-10-09T09:34:57.989282",
     "status": "completed"
    },
    "tags": []
   },
   "source": [
    "# <b>5. <span style='color:#c72b2ed4'>|</span>Prediction</b> "
   ]
  },
  {
   "cell_type": "code",
   "execution_count": 27,
   "id": "e9ba7db3",
   "metadata": {
    "execution": {
     "iopub.execute_input": "2023-10-09T09:34:58.033099Z",
     "iopub.status.busy": "2023-10-09T09:34:58.032161Z",
     "iopub.status.idle": "2023-10-09T09:34:58.046618Z",
     "shell.execute_reply": "2023-10-09T09:34:58.044524Z"
    },
    "papermill": {
     "duration": 0.033648,
     "end_time": "2023-10-09T09:34:58.050663",
     "exception": false,
     "start_time": "2023-10-09T09:34:58.017015",
     "status": "completed"
    },
    "tags": []
   },
   "outputs": [
    {
     "name": "stdout",
     "output_type": "stream",
     "text": [
      "Accuracy: 0.7180000000000002\n",
      "Accuracy: 0.7120000000000002\n"
     ]
    }
   ],
   "source": [
    "pred_train= predict(X_train,Y_train,parameters)\n",
    "pred_test= predict(X_test,Y_test,parameters)"
   ]
  },
  {
   "cell_type": "code",
   "execution_count": 28,
   "id": "dd393383",
   "metadata": {
    "execution": {
     "iopub.execute_input": "2023-10-09T09:34:58.139094Z",
     "iopub.status.busy": "2023-10-09T09:34:58.138405Z",
     "iopub.status.idle": "2023-10-09T09:34:58.160288Z",
     "shell.execute_reply": "2023-10-09T09:34:58.159416Z"
    },
    "papermill": {
     "duration": 0.070046,
     "end_time": "2023-10-09T09:34:58.162596",
     "exception": false,
     "start_time": "2023-10-09T09:34:58.092550",
     "status": "completed"
    },
    "tags": []
   },
   "outputs": [],
   "source": [
    "def plot_confusion_matrix(Y, predictions, title='', ax=None, **kwargs):\n",
    "    \"\"\"    \n",
    "    Arguments:\n",
    "    Y -- True labels \n",
    "    predictions -- Predicted labels\n",
    "    \"\"\"\n",
    "    # Accuracy\n",
    "    acc = np.sum((Y == predictions)) *100/ Y.shape[1]\n",
    "    \n",
    "    # Calculate confusion matrix elements\n",
    "    true_positive = np.sum((predictions == 1) & (Y == 1))\n",
    "    false_positive = np.sum((predictions == 1) & (Y == 0))\n",
    "    true_negative = np.sum((predictions == 0) & (Y == 0))\n",
    "    false_negative = np.sum((predictions == 0) & (Y == 1))\n",
    "    \n",
    "    # Create the confusion matrix\n",
    "    confusion_matrix = np.array([[true_negative, false_positive],\n",
    "                                 [false_negative, true_positive]])\n",
    "    \n",
    "    # Plot the confusion matrix\n",
    "    ax = ax or plt.gca()\n",
    "    ax.imshow(confusion_matrix, interpolation='nearest', cmap=plt.cm.Blues)\n",
    "    ax.set_title(f'Confusion Matrix: {title}; Accuracy:{acc:.2f}%' )\n",
    "    cax = ax.matshow(confusion_matrix, cmap=plt.cm.Blues)\n",
    "    plt.colorbar(cax)\n",
    "    \n",
    "    # Add labels to the plot\n",
    "    classes = [\"Negative\", \"Positive\"]\n",
    "    tick_marks = np.arange(len(classes))\n",
    "    ax.set_xticks(tick_marks)\n",
    "    ax.set_yticks(tick_marks)\n",
    "    ax.set_xticklabels(classes)\n",
    "    ax.set_yticklabels(classes)\n",
    "    \n",
    "    # Fill in the confusion matrix elements\n",
    "    for i in range(2):\n",
    "        for j in range(2):\n",
    "            ax.text(j, i, str(confusion_matrix[i, j]), horizontalalignment=\"center\", color=\"white\" if confusion_matrix[i, j] > confusion_matrix.max() / 2 else \"black\")\n",
    "    \n",
    "    ax.set_ylabel('True label')\n",
    "    ax.set_xlabel('Predicted label')\n",
    "    \n",
    "    return ax"
   ]
  },
  {
   "cell_type": "code",
   "execution_count": 29,
   "id": "eb3c5b7e",
   "metadata": {
    "execution": {
     "iopub.execute_input": "2023-10-09T09:34:58.194386Z",
     "iopub.status.busy": "2023-10-09T09:34:58.193618Z",
     "iopub.status.idle": "2023-10-09T09:34:59.071975Z",
     "shell.execute_reply": "2023-10-09T09:34:59.069752Z"
    },
    "papermill": {
     "duration": 0.897394,
     "end_time": "2023-10-09T09:34:59.075000",
     "exception": false,
     "start_time": "2023-10-09T09:34:58.177606",
     "status": "completed"
    },
    "tags": []
   },
   "outputs": [
    {
     "data": {
      "image/png": "[encoded data removed]",
      "text/plain": [
       "<Figure size 1200x600 with 4 Axes>"
      ]
     },
     "metadata": {},
     "output_type": "display_data"
    }
   ],
   "source": [
    "fig, axes = plt.subplots(1, 2, figsize=(12, 6))\n",
    "plot_confusion_matrix(Y_train, pred_train, title=\"Training Data\", ax=axes[0])\n",
    "plot_confusion_matrix(Y_test, pred_test, title=\"Test Data\", ax=axes[1])\n",
    "\n",
    "plt.tight_layout()\n",
    "plt.show()"
   ]
  },
  {
   "cell_type": "markdown",
   "id": "8ef5e5c4",
   "metadata": {
    "papermill": {
     "duration": 0.014897,
     "end_time": "2023-10-09T09:34:59.106275",
     "exception": false,
     "start_time": "2023-10-09T09:34:59.091378",
     "status": "completed"
    },
    "tags": []
   },
   "source": [
    "# <b>6. <span style='color:#c72b2ed4'>|</span>Trying a different (simple) structured model</b> \n"
   ]
  },
  {
   "cell_type": "code",
   "execution_count": 30,
   "id": "e48b147a",
   "metadata": {
    "execution": {
     "iopub.execute_input": "2023-10-09T09:34:59.139455Z",
     "iopub.status.busy": "2023-10-09T09:34:59.139003Z",
     "iopub.status.idle": "2023-10-09T09:35:21.196157Z",
     "shell.execute_reply": "2023-10-09T09:35:21.194977Z"
    },
    "papermill": {
     "duration": 22.077543,
     "end_time": "2023-10-09T09:35:21.198660",
     "exception": false,
     "start_time": "2023-10-09T09:34:59.121117",
     "status": "completed"
    },
    "tags": []
   },
   "outputs": [
    {
     "name": "stdout",
     "output_type": "stream",
     "text": [
      "Cost after iteration 0: 0.7173570607520298\n",
      "Cost after iteration 500: 0.6681221208818721\n",
      "Cost after iteration 1000: 0.6444682552866946\n",
      "Cost after iteration 1500: 0.6233449756206229\n",
      "Cost after iteration 2000: 0.6027845952301952\n",
      "Cost after iteration 2500: 0.5829007411590285\n",
      "Cost after iteration 3000: 0.5651622684973712\n",
      "Cost after iteration 3500: 0.549452760091398\n",
      "Cost after iteration 4000: 0.535723960827796\n",
      "Cost after iteration 4500: 0.5237085213969903\n",
      "Cost after iteration 5000: 0.5131868191568405\n",
      "Cost after iteration 5500: 0.5037378131598648\n",
      "Cost after iteration 6000: 0.4951785642955501\n",
      "Cost after iteration 6500: 0.4872256692813122\n",
      "Cost after iteration 7000: 0.47982315085382615\n",
      "Cost after iteration 7500: 0.47313179326300026\n",
      "Cost after iteration 8000: 0.4670215283797464\n",
      "Cost after iteration 8500: 0.46133124362042727\n",
      "Cost after iteration 9000: 0.4559591305847879\n",
      "Cost after iteration 9500: 0.4509968150282431\n",
      "Cost after iteration 10000: 0.4462604514573003\n",
      "Cost after iteration 10500: 0.44181625775691824\n",
      "Cost after iteration 11000: 0.4375988198467959\n",
      "Cost after iteration 11500: 0.4336128713918987\n",
      "Cost after iteration 12000: 0.4297162623770475\n",
      "Cost after iteration 12500: 0.4260510932842025\n",
      "Cost after iteration 13000: 0.4225300546249713\n",
      "Cost after iteration 13500: 0.4191953191324883\n",
      "Cost after iteration 14000: 0.4160873253351225\n",
      "Cost after iteration 14500: 0.4131642238878555\n",
      "Cost after iteration 15000: 0.4103679176624546\n",
      "Cost after iteration 15500: 0.4076763371050854\n",
      "Cost after iteration 16000: 0.40511560287538534\n",
      "Cost after iteration 16500: 0.4027119539115476\n",
      "Cost after iteration 17000: 0.4004045301236357\n",
      "Cost after iteration 17500: 0.3980482175948368\n",
      "Cost after iteration 18000: 0.3955871591736321\n",
      "Cost after iteration 18500: 0.39303026247966827\n",
      "Cost after iteration 19000: 0.3905981244605546\n",
      "Cost after iteration 19500: 0.3883179354015539\n",
      "Cost after iteration 20000: 0.38615141473028347\n",
      "Cost after iteration 20500: 0.38412266326423267\n",
      "Cost after iteration 21000: 0.3822224211251233\n",
      "Cost after iteration 21500: 0.38043820608389395\n",
      "Cost after iteration 22000: 0.37877003808755066\n",
      "Cost after iteration 22500: 0.37717391324228355\n",
      "Cost after iteration 23000: 0.3756257565999636\n",
      "Cost after iteration 23500: 0.3741159312628129\n",
      "Cost after iteration 24000: 0.3726565238194623\n",
      "Cost after iteration 24500: 0.37126110598022616\n",
      "Cost after iteration 24999: 0.369974464172742\n"
     ]
    },
    {
     "data": {
      "image/png": "[encoded data removed]",
      "text/plain": [
       "<Figure size 640x480 with 1 Axes>"
      ]
     },
     "metadata": {},
     "output_type": "display_data"
    }
   ],
   "source": [
    "layers_dims=[n_x,6,4,1]\n",
    "parameters2, costs2 = ANN(X_train, Y_train, layers_dims,learning_rate = 0.00075, num_iterations = 25000, print_cost = True)"
   ]
  },
  {
   "cell_type": "code",
   "execution_count": 31,
   "id": "76d518a5",
   "metadata": {
    "execution": {
     "iopub.execute_input": "2023-10-09T09:35:21.237195Z",
     "iopub.status.busy": "2023-10-09T09:35:21.236816Z",
     "iopub.status.idle": "2023-10-09T09:35:21.244245Z",
     "shell.execute_reply": "2023-10-09T09:35:21.243036Z"
    },
    "papermill": {
     "duration": 0.029987,
     "end_time": "2023-10-09T09:35:21.246376",
     "exception": false,
     "start_time": "2023-10-09T09:35:21.216389",
     "status": "completed"
    },
    "tags": []
   },
   "outputs": [
    {
     "name": "stdout",
     "output_type": "stream",
     "text": [
      "Accuracy: 0.8730000000000003\n",
      "Accuracy: 0.8840000000000002\n"
     ]
    }
   ],
   "source": [
    "pred_train2=predict(X_train,Y_train,parameters2)\n",
    "pred_test2=predict(X_test,Y_test,parameters2)"
   ]
  },
  {
   "cell_type": "code",
   "execution_count": 32,
   "id": "2b184010",
   "metadata": {
    "execution": {
     "iopub.execute_input": "2023-10-09T09:35:21.283413Z",
     "iopub.status.busy": "2023-10-09T09:35:21.282953Z",
     "iopub.status.idle": "2023-10-09T09:35:22.259287Z",
     "shell.execute_reply": "2023-10-09T09:35:22.258405Z"
    },
    "papermill": {
     "duration": 0.997479,
     "end_time": "2023-10-09T09:35:22.261487",
     "exception": false,
     "start_time": "2023-10-09T09:35:21.264008",
     "status": "completed"
    },
    "tags": []
   },
   "outputs": [
    {
     "data": {
      "image/png": "[encoded data removed]",
      "text/plain": [
       "<Figure size 1200x600 with 4 Axes>"
      ]
     },
     "metadata": {},
     "output_type": "display_data"
    }
   ],
   "source": [
    "fig, axes = plt.subplots(1, 2, figsize=(12, 6))\n",
    "plot_confusion_matrix(Y_train, pred_train2, title=\"Training Data\", ax=axes[0])\n",
    "plot_confusion_matrix(Y_test, pred_test2, title=\"Test Data\", ax=axes[1])\n",
    "\n",
    "plt.tight_layout()\n",
    "plt.show()"
   ]
  },
  {
   "cell_type": "code",
   "execution_count": null,
   "id": "14359668",
   "metadata": {
    "papermill": {
     "duration": 0.019441,
     "end_time": "2023-10-09T09:35:22.300646",
     "exception": false,
     "start_time": "2023-10-09T09:35:22.281205",
     "status": "completed"
    },
    "tags": []
   },
   "outputs": [],
   "source": []
  },
  {
   "cell_type": "markdown",
   "id": "b5f7bfc2",
   "metadata": {
    "execution": {
     "iopub.execute_input": "2023-10-07T16:49:06.727819Z",
     "iopub.status.busy": "2023-10-07T16:49:06.727399Z",
     "iopub.status.idle": "2023-10-07T16:49:06.736101Z",
     "shell.execute_reply": "2023-10-07T16:49:06.734388Z",
     "shell.execute_reply.started": "2023-10-07T16:49:06.727788Z"
    },
    "papermill": {
     "duration": 0.017975,
     "end_time": "2023-10-09T09:35:22.337113",
     "exception": false,
     "start_time": "2023-10-09T09:35:22.319138",
     "status": "completed"
    },
    "tags": []
   },
   "source": [
    "* **Structure of this ANN model are inspired from this course on <a href=\"https://www.coursera.org/learn/neural-networks-deep-learning\"> Coursera</a>**\n",
    "* **Please feel free to leave any suggestion and do Upvote if you like the notebook**"
   ]
  }
 ],
 "metadata": {
  "kernelspec": {
   "display_name": "Python 3",
   "language": "python",
   "name": "python3"
  },
  "language_info": {
   "codemirror_mode": {
    "name": "ipython",
    "version": 3
   },
   "file_extension": ".py",
   "mimetype": "text/x-python",
   "name": "python",
   "nbconvert_exporter": "python",
   "pygments_lexer": "ipython3",
   "version": "3.10.12"
  },
  "papermill": {
   "default_parameters": {},
   "duration": 172.497382,
   "end_time": "2023-10-09T09:35:23.078243",
   "environment_variables": {},
   "exception": null,
   "input_path": "__notebook__.ipynb",
   "output_path": "__notebook__.ipynb",
   "parameters": {},
   "start_time": "2023-10-09T09:32:30.580861",
   "version": "2.4.0"
  }
 },
 "nbformat": 4,
 "nbformat_minor": 5
}
